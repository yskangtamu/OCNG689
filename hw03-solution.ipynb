{
 "cells": [
  {
   "cell_type": "markdown",
   "metadata": {},
   "source": [
    "# Homework 03\n",
    "\n",
    "## Due Thursday, February 18th"
   ]
  },
  {
   "cell_type": "markdown",
   "metadata": {},
   "source": [
    "Yoonso Kang"
   ]
  },
  {
   "cell_type": "code",
   "execution_count": 1,
   "metadata": {
    "collapsed": true
   },
   "outputs": [],
   "source": [
    "import numpy as np"
   ]
  },
  {
   "cell_type": "markdown",
   "metadata": {},
   "source": [
    "### 1. Vector manipulation\n",
    "\n",
    "Create a vector of zeros of size 10 but have the fifth value be 1."
   ]
  },
  {
   "cell_type": "code",
   "execution_count": 2,
   "metadata": {
    "collapsed": false
   },
   "outputs": [
    {
     "name": "stdout",
     "output_type": "stream",
     "text": [
      "[ 0.  0.  0.  0.  1.  0.  0.  0.  0.  0.]\n"
     ]
    }
   ],
   "source": [
    "z = np.zeros(10)\n",
    "z[4] = 1\n",
    "\n",
    "print(z)"
   ]
  },
  {
   "cell_type": "markdown",
   "metadata": {},
   "source": [
    "### 2. Vector range\n",
    "\n",
    "Create a vector with values ranging from 10 to 49, inclusive."
   ]
  },
  {
   "cell_type": "code",
   "execution_count": 3,
   "metadata": {
    "collapsed": false
   },
   "outputs": [
    {
     "data": {
      "text/plain": [
       "array([ 10.,  11.,  12.,  13.,  14.,  15.,  16.,  17.,  18.,  19.,  20.,\n",
       "        21.,  22.,  23.,  24.,  25.,  26.,  27.,  28.,  29.,  30.,  31.,\n",
       "        32.,  33.,  34.,  35.,  36.,  37.,  38.,  39.,  40.,  41.,  42.,\n",
       "        43.,  44.,  45.,  46.,  47.,  48.,  49.])"
      ]
     },
     "execution_count": 3,
     "metadata": {},
     "output_type": "execute_result"
    }
   ],
   "source": [
    "np.linspace(10, 49, 40)"
   ]
  },
  {
   "cell_type": "markdown",
   "metadata": {},
   "source": [
    "### 3. Reverse a vector\n",
    "\n",
    "Write a function, `reverse(x)` which reverses a vector, so that the first element becomes the last element. The API should be\n",
    "\n",
    "    return a 1D vector with the elements reversed\n",
    "    \n",
    "    Input\n",
    "    -----\n",
    "        x: 1D array\n",
    "    \n",
    "    Output\n",
    "    ------\n",
    "        res: 1D array, with the elements of `x` reversed\n",
    "\n",
    "Include this (or an equivalent description) in the function's docstring."
   ]
  },
  {
   "cell_type": "code",
   "execution_count": 4,
   "metadata": {
    "collapsed": false
   },
   "outputs": [
    {
     "name": "stdout",
     "output_type": "stream",
     "text": [
      "[ 0.  0.  0.  0.  0.  1.  0.  0.  0.  0.]\n",
      "[ 49.  48.  47.  46.  45.  44.  43.  42.  41.  40.  39.  38.  37.  36.  35.\n",
      "  34.  33.  32.  31.  30.  29.  28.  27.  26.  25.  24.  23.  22.  21.  20.\n",
      "  19.  18.  17.  16.  15.  14.  13.  12.  11.  10.]\n"
     ]
    }
   ],
   "source": [
    "def reverse(x):\n",
    "    \"\"\"Returns a 1D array with the elements reversed.\n",
    "    \n",
    "    Input:\n",
    "        x: 1D array\n",
    "    \n",
    "    Output:\n",
    "        res: 1D array, with the elements of `x` reversed\n",
    "    \"\"\"\n",
    "    return x[::-1]\n",
    "\n",
    "reverse?\n",
    "print(reverse(z)) # From question 1\n",
    "print(reverse(np.linspace(10, 49, 40))) # From question 2\n",
    "\n",
    "assert (reverse(reverse(z)) == z).all()"
   ]
  },
  {
   "cell_type": "markdown",
   "metadata": {},
   "source": [
    "### 4. Find indices of non-zero elements\n",
    "\n",
    "Write a function `find_nonzero(x)` that finds the indices of non-zero elements, with an API like\n",
    "\n",
    "    return the indices of non-zero elements of an array.\n",
    "\n",
    "    Input:      x:  array\n",
    "    Output:     indices: array of integer indices\n",
    "\n",
    "Use the function to get out the non-zero elements from an array containing the elements [1,2,0,0,4,0]."
   ]
  },
  {
   "cell_type": "code",
   "execution_count": 5,
   "metadata": {
    "collapsed": false
   },
   "outputs": [
    {
     "name": "stdout",
     "output_type": "stream",
     "text": [
      "[1 2 4]\n",
      "[1 2 4 1 2 4 1 2 4 1 2 4 1 2 4]\n"
     ]
    }
   ],
   "source": [
    "def find_nonzero(x):\n",
    "    \"\"\"Returns the indices of non-zero elements of an array.\n",
    "    \n",
    "    Input:\n",
    "        x: array\n",
    "    \n",
    "    Output:\n",
    "        indices: array of integer indices\n",
    "    \"\"\"\n",
    "    return np.where(x != 0)\n",
    "\n",
    "x = np.array([1, 2, 0, 0, 4, 0])\n",
    "print(x[find_nonzero(x)])\n",
    "\n",
    "y = np.tile(x, (5, 1)) # Another array containing the elements [1, 2, 0, 0, 4, 0]\n",
    "print(y[find_nonzero(y)])"
   ]
  },
  {
   "cell_type": "markdown",
   "metadata": {},
   "source": [
    "### 5. Array with random values\n",
    "\n",
    "Create a 3x3x3 array with normally distributed ($\\mu =0, \\sigma=1)$ random values."
   ]
  },
  {
   "cell_type": "code",
   "execution_count": 6,
   "metadata": {
    "collapsed": false
   },
   "outputs": [
    {
     "data": {
      "text/plain": [
       "array([[[-0.66376706,  0.40493503,  1.26142236],\n",
       "        [ 1.35801768,  1.0315141 ,  0.16752301],\n",
       "        [ 1.03928914,  0.34979656, -0.4255513 ]],\n",
       "\n",
       "       [[ 0.47638493,  0.89722131, -1.21093738],\n",
       "        [ 0.70673677,  0.07928984,  0.52134337],\n",
       "        [ 0.29572437,  1.08050458, -0.34444692]],\n",
       "\n",
       "       [[-0.19320686,  1.63809052,  1.56205051],\n",
       "        [-1.76646224, -1.19531308, -1.36142843],\n",
       "        [-0.06844793, -2.28395965, -1.08721418]]])"
      ]
     },
     "execution_count": 6,
     "metadata": {},
     "output_type": "execute_result"
    }
   ],
   "source": [
    "np.random.randn(3, 3, 3)"
   ]
  },
  {
   "cell_type": "markdown",
   "metadata": {},
   "source": [
    "### 6. Operations on an array with random values\n",
    "\n",
    "Create a 10x10 array with random values. Find \n",
    "- the minimum value of the 2nd row\n",
    "- the maximum value of the 4th column"
   ]
  },
  {
   "cell_type": "code",
   "execution_count": 7,
   "metadata": {
    "collapsed": false
   },
   "outputs": [
    {
     "name": "stdout",
     "output_type": "stream",
     "text": [
      "The minimum value of the 2nd row = 0.0398031348686\n",
      "The maximum values of the 4th row = 0.893807184309\n"
     ]
    },
    {
     "data": {
      "text/plain": [
       "array([[ 0.0681061 ,  0.17524856,  0.08970226,  0.61254692,  0.15485514,\n",
       "         0.10632827,  0.6253131 ,  0.55024264,  0.57024606,  0.45625894],\n",
       "       [ 0.68034821,  0.1157779 ,  0.90920764,  0.07347821,  0.03980313,\n",
       "         0.43625965,  0.6065831 ,  0.27087618,  0.90533981,  0.19649785],\n",
       "       [ 0.18051994,  0.06020352,  0.41978745,  0.522137  ,  0.09058863,\n",
       "         0.32837   ,  0.45569054,  0.99126194,  0.5388758 ,  0.3333725 ],\n",
       "       [ 0.4320432 ,  0.43946251,  0.36538905,  0.80458649,  0.86860903,\n",
       "         0.82685937,  0.79879111,  0.08832578,  0.50556209,  0.93537429],\n",
       "       [ 0.43204629,  0.20436266,  0.48812576,  0.38828067,  0.37543675,\n",
       "         0.67062522,  0.72342442,  0.1987248 ,  0.57605852,  0.76556624],\n",
       "       [ 0.49379839,  0.01828037,  0.5749257 ,  0.6808026 ,  0.86517483,\n",
       "         0.15350722,  0.70494574,  0.22051331,  0.54720786,  0.80779067],\n",
       "       [ 0.19975374,  0.01688131,  0.4995797 ,  0.19227813,  0.18889214,\n",
       "         0.44445103,  0.91954347,  0.34885874,  0.77143291,  0.30859417],\n",
       "       [ 0.70252114,  0.56017828,  0.98506723,  0.08171388,  0.66640259,\n",
       "         0.77790065,  0.6166207 ,  0.88730021,  0.33861071,  0.12953654],\n",
       "       [ 0.6565797 ,  0.93865058,  0.07072295,  0.0737489 ,  0.54387532,\n",
       "         0.43278745,  0.79222687,  0.89726527,  0.0313496 ,  0.06815688],\n",
       "       [ 0.79324121,  0.16862777,  0.84286952,  0.89380718,  0.80924601,\n",
       "         0.87096898,  0.73737013,  0.68118331,  0.56514944,  0.60931418]])"
      ]
     },
     "execution_count": 7,
     "metadata": {},
     "output_type": "execute_result"
    }
   ],
   "source": [
    "c = np.random.rand(10, 10)\n",
    "\n",
    "print('The minimum value of the 2nd row =', c[1, :].min())\n",
    "print('The maximum values of the 4th row =', c[:, 3].max())\n",
    "c"
   ]
  },
  {
   "cell_type": "markdown",
   "metadata": {},
   "source": [
    "### 7. Vector without end points\n",
    "\n",
    "Create a vector of size 10 with values ranging from 0 to 1, both excluded."
   ]
  },
  {
   "cell_type": "code",
   "execution_count": 8,
   "metadata": {
    "collapsed": false
   },
   "outputs": [
    {
     "data": {
      "text/plain": [
       "array([ 0.09090909,  0.18181818,  0.27272727,  0.36363636,  0.45454545,\n",
       "        0.54545455,  0.63636364,  0.72727273,  0.81818182,  0.90909091])"
      ]
     },
     "execution_count": 8,
     "metadata": {},
     "output_type": "execute_result"
    }
   ],
   "source": [
    "np.linspace(1, 10, 10)/11"
   ]
  },
  {
   "cell_type": "markdown",
   "metadata": {},
   "source": [
    "### 8. Sorted random vector\n",
    "\n",
    "Create a random vector of size 10, then sort it."
   ]
  },
  {
   "cell_type": "code",
   "execution_count": 9,
   "metadata": {
    "collapsed": false
   },
   "outputs": [
    {
     "name": "stdout",
     "output_type": "stream",
     "text": [
      "The original vector = [ 0.70607267  0.72468692  0.45407744  0.48757881  0.58397658  0.26174291\n",
      "  0.16724305  0.03425749  0.81546847  0.5337554 ]\n",
      "The sorted vector = [ 0.03425749  0.16724305  0.26174291  0.45407744  0.48757881  0.5337554\n",
      "  0.58397658  0.70607267  0.72468692  0.81546847]\n"
     ]
    }
   ],
   "source": [
    "d = np.random.rand(10)\n",
    "\n",
    "print('The original vector =', d)\n",
    "print('The sorted vector =', np.sort(d))"
   ]
  },
  {
   "cell_type": "markdown",
   "metadata": {},
   "source": [
    "### 9. Test for array equality\n",
    "\n",
    "Write a function `is_equal(A, B)` that compare two arrays `A` and `B` and checks to see if they are equal. \n",
    "\n",
    "    return True if two arrays are the same shape and all the elements are equal.\n",
    "    \n",
    "    Inputs:\n",
    "        A, B:  array\n",
    "    Output:\n",
    "        Bool:  True if A and B have the same shape and identical elements.\n",
    "\n",
    "The arrays count as equal if they are the same shape and all elements in the array are equal."
   ]
  },
  {
   "cell_type": "code",
   "execution_count": 10,
   "metadata": {
    "collapsed": false
   },
   "outputs": [
    {
     "name": "stdout",
     "output_type": "stream",
     "text": [
      "False\n",
      "False\n"
     ]
    }
   ],
   "source": [
    "def is_equal(A, B):\n",
    "    \"\"\"Returns True if two arrays are the same shape and all the elements are equal.\n",
    "    \n",
    "    Inputs:\n",
    "        A, B:  array\n",
    "    \n",
    "    Output:\n",
    "        Bool:  True if A and B have the same shape and identical elements.\n",
    "    \"\"\"\n",
    "    return (A.shape == B.shape) & (A.flat == B.flat).all()\n",
    "\n",
    "print(is_equal(z, reverse(z)))\n",
    "print(is_equal(y, y.flatten()))"
   ]
  },
  {
   "cell_type": "markdown",
   "metadata": {},
   "source": [
    "Or, one of the functions that are provided by the `numpy` package can be used here instead."
   ]
  },
  {
   "cell_type": "code",
   "execution_count": 11,
   "metadata": {
    "collapsed": false
   },
   "outputs": [
    {
     "name": "stdout",
     "output_type": "stream",
     "text": [
      "False\n",
      "False\n"
     ]
    }
   ],
   "source": [
    "def is_equal(A, B):\n",
    "    \"\"\"Returns True if two arrays are the same shape and all the elements are equal.\n",
    "    \n",
    "    Inputs:\n",
    "        A, B:  array\n",
    "    \n",
    "    Output:\n",
    "        Bool:  True if A and B have the same shape and identical elements.\n",
    "    \"\"\"\n",
    "    return np.array_equal(A, B)\n",
    "\n",
    "print(is_equal(z, reverse(z)))\n",
    "print(is_equal(y, y.flatten()))"
   ]
  },
  {
   "cell_type": "markdown",
   "metadata": {},
   "source": [
    "### 10. Subtract the row mean from rows of a matrix\n",
    "\n",
    "Create a matrix. Then subtract the mean of each row of the matrix from the respective row. Do this without using a loop (that is, using array operations)."
   ]
  },
  {
   "cell_type": "code",
   "execution_count": 12,
   "metadata": {
    "collapsed": false
   },
   "outputs": [
    {
     "name": "stdout",
     "output_type": "stream",
     "text": [
      "[[-2.7  3.3  3.3  0.3  2.3 -0.7 -5.7 -0.7  3.3 -2.7]\n",
      " [ 3.5 -5.5 -2.5  1.5 -2.5  3.5  3.5 -0.5 -4.5  3.5]\n",
      " [-1.2 -0.2  4.8 -3.2 -2.2  2.8 -2.2  2.8 -3.2  1.8]\n",
      " [-2.3  2.7  0.7 -3.3 -1.3 -1.3  3.7 -0.3 -1.3  2.7]\n",
      " [-0.3  0.7  4.7 -3.3  4.7  3.7 -3.3 -0.3 -3.3 -3.3]]\n",
      "The original matrix =\n",
      " [[3 9 9 6 8 5 0 5 9 3]\n",
      " [9 0 3 7 3 9 9 5 1 9]\n",
      " [2 3 8 0 1 6 1 6 0 5]\n",
      " [2 7 5 1 3 3 8 4 3 7]\n",
      " [4 5 9 1 9 8 1 4 1 1]]\n"
     ]
    }
   ],
   "source": [
    "e = np.random.randint(10, size=(5, 10))\n",
    "\n",
    "print(e-e.mean(axis=1)[:, np.newaxis])\n",
    "print('The original matrix =\\n', e)"
   ]
  },
  {
   "cell_type": "markdown",
   "metadata": {},
   "source": [
    "### 11. Multiply arrays\n",
    "\n",
    "Multiply an array of dimension (5,5,3) with an array with dimensions (5,5). Then multiply an array of dimension (3,5,5) with an array of dimension (5,5)."
   ]
  },
  {
   "cell_type": "code",
   "execution_count": 13,
   "metadata": {
    "collapsed": false
   },
   "outputs": [
    {
     "name": "stdout",
     "output_type": "stream",
     "text": [
      "(5, 5, 3) x (5, 5) -> (5, 5, 3) \n",
      " [[[   0    0    0]\n",
      "  [   3    4    5]\n",
      "  [  12   14   16]\n",
      "  [  27   30   33]\n",
      "  [  48   52   56]]\n",
      "\n",
      " [[  75   80   85]\n",
      "  [ 108  114  120]\n",
      "  [ 147  154  161]\n",
      "  [ 192  200  208]\n",
      "  [ 243  252  261]]\n",
      "\n",
      " [[ 300  310  320]\n",
      "  [ 363  374  385]\n",
      "  [ 432  444  456]\n",
      "  [ 507  520  533]\n",
      "  [ 588  602  616]]\n",
      "\n",
      " [[ 675  690  705]\n",
      "  [ 768  784  800]\n",
      "  [ 867  884  901]\n",
      "  [ 972  990 1008]\n",
      "  [1083 1102 1121]]\n",
      "\n",
      " [[1200 1220 1240]\n",
      "  [1323 1344 1365]\n",
      "  [1452 1474 1496]\n",
      "  [1587 1610 1633]\n",
      "  [1728 1752 1776]]]\n",
      "(3, 5, 5) x (5, 5) -> (3, 5, 5) \n",
      " [[[   0    1    4    9   16]\n",
      "  [  25   36   49   64   81]\n",
      "  [ 100  121  144  169  196]\n",
      "  [ 225  256  289  324  361]\n",
      "  [ 400  441  484  529  576]]\n",
      "\n",
      " [[   0   26   54   84  116]\n",
      "  [ 150  186  224  264  306]\n",
      "  [ 350  396  444  494  546]\n",
      "  [ 600  656  714  774  836]\n",
      "  [ 900  966 1034 1104 1176]]\n",
      "\n",
      " [[   0   51  104  159  216]\n",
      "  [ 275  336  399  464  531]\n",
      "  [ 600  671  744  819  896]\n",
      "  [ 975 1056 1139 1224 1311]\n",
      "  [1400 1491 1584 1679 1776]]]\n"
     ]
    }
   ],
   "source": [
    "f = np.arange(5*5*3).reshape(5, 5, 3)\n",
    "g = np.arange(5*5).reshape(5, 5)\n",
    "h = np.arange(3*5*5).reshape(3, 5, 5)\n",
    "\n",
    "print(f.shape, 'x', g.shape, '->', (f * g[:, :, np.newaxis]).shape, '\\n', f * g[:, :, np.newaxis])\n",
    "print(h.shape, 'x', g.shape, '->', (h * g).shape, '\\n', h * g)"
   ]
  },
  {
   "cell_type": "markdown",
   "metadata": {},
   "source": [
    "### 12. Creating a new array\n",
    "\n",
    "Starting with an array\n",
    "\n",
    "    Z = [1,2,3,4,5,6,7,8,9,10,11,12,13,14].\n",
    "    \n",
    "Generate an array \n",
    "\n",
    "    R = [[1,2,3,4], [2,3,4,5], [3,4,5,6], ..., [11,12,13,14]]. "
   ]
  },
  {
   "cell_type": "code",
   "execution_count": 14,
   "metadata": {
    "collapsed": true
   },
   "outputs": [],
   "source": [
    "Z = np.arange(1, 15)"
   ]
  },
  {
   "cell_type": "markdown",
   "metadata": {},
   "source": [
    "* The first method using the function `np.ones`"
   ]
  },
  {
   "cell_type": "code",
   "execution_count": 15,
   "metadata": {
    "collapsed": false
   },
   "outputs": [
    {
     "name": "stdout",
     "output_type": "stream",
     "text": [
      "R =\n",
      " [[ 1  2  3  4]\n",
      " [ 2  3  4  5]\n",
      " [ 3  4  5  6]\n",
      " [ 4  5  6  7]\n",
      " [ 5  6  7  8]\n",
      " [ 6  7  8  9]\n",
      " [ 7  8  9 10]\n",
      " [ 8  9 10 11]\n",
      " [ 9 10 11 12]\n",
      " [10 11 12 13]\n",
      " [11 12 13 14]]\n"
     ]
    }
   ],
   "source": [
    "R = Z[:11, np.newaxis] + Z[np.newaxis, :4] - np.ones((11, 4), dtype=int)\n",
    "print('R =\\n', R)"
   ]
  },
  {
   "cell_type": "markdown",
   "metadata": {},
   "source": [
    "* The second and third methods without using the function `np.ones`"
   ]
  },
  {
   "cell_type": "code",
   "execution_count": 16,
   "metadata": {
    "collapsed": false
   },
   "outputs": [
    {
     "name": "stdout",
     "output_type": "stream",
     "text": [
      "R =\n",
      " [[ 1  2  3  4]\n",
      " [ 2  3  4  5]\n",
      " [ 3  4  5  6]\n",
      " [ 4  5  6  7]\n",
      " [ 5  6  7  8]\n",
      " [ 6  7  8  9]\n",
      " [ 7  8  9 10]\n",
      " [ 8  9 10 11]\n",
      " [ 9 10 11 12]\n",
      " [10 11 12 13]\n",
      " [11 12 13 14]]\n"
     ]
    }
   ],
   "source": [
    "R = (Z-1)[:11, np.newaxis] + Z[np.newaxis, :4]\n",
    "print('R =\\n', R)"
   ]
  },
  {
   "cell_type": "code",
   "execution_count": 17,
   "metadata": {
    "collapsed": false
   },
   "outputs": [
    {
     "name": "stdout",
     "output_type": "stream",
     "text": [
      "R =\n",
      " [[ 1  2  3  4]\n",
      " [ 2  3  4  5]\n",
      " [ 3  4  5  6]\n",
      " [ 4  5  6  7]\n",
      " [ 5  6  7  8]\n",
      " [ 6  7  8  9]\n",
      " [ 7  8  9 10]\n",
      " [ 8  9 10 11]\n",
      " [ 9 10 11 12]\n",
      " [10 11 12 13]\n",
      " [11 12 13 14]]\n"
     ]
    }
   ],
   "source": [
    "R = Z[:11, np.newaxis] + (Z-1)[np.newaxis, :4]\n",
    "print('R =\\n', R)"
   ]
  },
  {
   "cell_type": "markdown",
   "metadata": {},
   "source": [
    "### 13. Convert from Cartesian to polar coordinates\n",
    "\n",
    "Write a function `cart2polar(xy)` which takes in an Nx2 matrix of `x, y` pairs representing Cartesian coordinates and return the locations represented in polar coordinates in the same shape matrix. The API is\n",
    "\n",
    "    Return equivalent polar coordinates of specified cartesian points.\n",
    "    \n",
    "    Inputs:\n",
    "        xy: array\n",
    "             Nx2 array of Cartesian coordinates, with columns x and y respectively.\n",
    "\n",
    "    Returns:\n",
    "        rp: array\n",
    "            Nx2 array of polar coordinates, with columns radius and angle respectively\n"
   ]
  },
  {
   "cell_type": "code",
   "execution_count": 18,
   "metadata": {
    "collapsed": false
   },
   "outputs": [
    {
     "name": "stdout",
     "output_type": "stream",
     "text": [
      "[x, y] =\n",
      " [[ 7.14627283 -7.0866217 ]\n",
      " [-5.1908078  -6.74368626]\n",
      " [-8.21511239 -9.82393228]\n",
      " [-3.98791692 -0.26788857]\n",
      " [-8.70342294 -9.35560112]\n",
      " [ 1.13237858 -1.09472553]\n",
      " [-8.35020285  5.98387969]\n",
      " [ 6.0714064  -2.96554408]\n",
      " [-8.35103394  4.12938404]\n",
      " [-3.4289567   0.81089321]\n",
      " [ 8.28571781 -2.28994297]\n",
      " [ 0.30384357 -5.43809257]\n",
      " [-5.36825471 -1.65417754]\n",
      " [-3.13023928 -9.13469081]\n",
      " [-2.28498236 -6.96885588]]\n",
      "[r, phi(degree)] =\n",
      " [[  10.06426463  315.24012952]\n",
      " [   8.51009929  232.41349434]\n",
      " [  12.80615934  230.09646458]\n",
      " [   3.99690451  183.84307391]\n",
      " [  12.77798275  227.06826376]\n",
      " [   1.57502547  315.96859194]\n",
      " [  10.27291116  144.37405272]\n",
      " [   6.756954    333.96706572]\n",
      " [   9.31619989  153.68871944]\n",
      " [   3.523534    166.69490134]\n",
      " [   8.59633401  344.55067503]\n",
      " [   5.44657431  273.19797277]\n",
      " [   5.61733584  197.12619287]\n",
      " [   9.65613661  251.08464326]\n",
      " [   7.33390051  251.84646581]]\n"
     ]
    }
   ],
   "source": [
    "def cart2polar(xy):\n",
    "    \"\"\"Returns equivalent polar coordinates of specified cartesian points.\n",
    "    \n",
    "    Inputs:\n",
    "        xy: array\n",
    "            Nx2 array of Cartesian coordinates, with columns x and y respectively.\n",
    "    \n",
    "    Returns:\n",
    "        rp: array\n",
    "            Nx2 array of polar coordinates, with columns radius and angle respectively.\n",
    "    \"\"\"\n",
    "    r = np.sqrt(np.square(xy).sum(axis=1))\n",
    "    p = np.angle(np.dot(xy, np.array([1., 1.j])), deg=True)\n",
    "    p[p < 0] = p[p < 0] + 360.\n",
    "    rp = np.array([[rn, pn] for rn, pn in zip(r, p)]) # Or, `rp = np.vstack((r, p)).T`\n",
    "    return rp\n",
    "\n",
    "o = np.random.randint(-10, 10, size=(15, 2)) + np.random.rand(15, 2)\n",
    "print('[x, y] =\\n', o)\n",
    "print('[r, phi(degree)] =\\n', cart2polar(o))"
   ]
  },
  {
   "cell_type": "markdown",
   "metadata": {},
   "source": [
    "### 14. Compute and time for loops and array operations.\n",
    "\n",
    "Calculate the time it takes to do what we did in class\n",
    "\n",
    "    a = np.arange(1024.0).reshape(4, 8, 16, 2)   # a 4D array using sequential numbers\n",
    "    b = np.random.rand(4, 8, 16, 2)              # a 4D array using random numbers\n",
    "    sol = a * b  # element-by-element multiplication. This operation is about as fast as it can be on your computer.\n",
    "\n",
    "and the time required for doing the same operation with a series of 4 `for` loops, one for each dimension of the arrays. Compare the times by calculating a ratio."
   ]
  },
  {
   "cell_type": "code",
   "execution_count": 21,
   "metadata": {
    "collapsed": false
   },
   "outputs": [
    {
     "name": "stdout",
     "output_type": "stream",
     "text": [
      "1000 loops, best of 3: 82.5 µs per loop\n"
     ]
    }
   ],
   "source": [
    "ebye = %timeit -o a = np.arange(1024.0).reshape(4, 8, 16, 2); b = np.random.rand(4, 8, 16, 2);\\\n",
    " sol = a * b"
   ]
  },
  {
   "cell_type": "code",
   "execution_count": 22,
   "metadata": {
    "collapsed": false
   },
   "outputs": [
    {
     "name": "stdout",
     "output_type": "stream",
     "text": [
      "10000 loops, best of 3: 12.4615972233936194 ms per loop\n"
     ]
    }
   ],
   "source": [
    "%%timeit -n10000 -p18\n",
    "a = np.arange(1024.0).reshape(4, 8, 16, 2)\n",
    "b = np.random.rand(4, 8, 16, 2)\n",
    "sol = np.empty(a.shape)\n",
    "for i in np.arange(a.shape[0]):\n",
    "    for j in np.arange(a.shape[1]):\n",
    "        for k in np.arange(a.shape[2]):\n",
    "            for l in np.arange(a.shape[3]):\n",
    "                sol[i, j, k, l] = a[i, j, k, l] * b[i, j, k, l]\n"
   ]
  },
  {
   "cell_type": "code",
   "execution_count": 26,
   "metadata": {
    "collapsed": false
   },
   "outputs": [
    {
     "data": {
      "text/plain": [
       "151.10596999234048"
      ]
     },
     "execution_count": 26,
     "metadata": {},
     "output_type": "execute_result"
    }
   ],
   "source": [
    "ratio = 12.4615972233936194e-03/ebye.best\n",
    "ratio"
   ]
  },
  {
   "cell_type": "markdown",
   "metadata": {
    "collapsed": false
   },
   "source": [
    "Therefore, the element-by-element multiplication is approxiately 151 times faster than the multiplication using `for` loops.\n",
    "\n",
    "* I tried to also capture the output of a series of 4 `for` loops like the element-by-element multiplication in the first one, but the options somehow do not work as the same way for the timeit cell magic. (They have the same options.) To save the output into a variable, I created a fuction containing the same procedures."
   ]
  },
  {
   "cell_type": "code",
   "execution_count": 24,
   "metadata": {
    "collapsed": false
   },
   "outputs": [
    {
     "name": "stdout",
     "output_type": "stream",
     "text": [
      "10000 loops, best of 3: 11.7 ms per loop\n"
     ]
    }
   ],
   "source": [
    "def for4(a, b):\n",
    "    sol = np.empty(a.shape)\n",
    "    for i in np.arange(a.shape[0]):\n",
    "        for j in np.arange(a.shape[1]):\n",
    "            for k in np.arange(a.shape[2]):\n",
    "                for l in np.arange(a.shape[3]):\n",
    "                    sol[i, j, k, l] = a[i, j, k, l] * b[i, j, k, l]\n",
    "    return sol\n",
    "\n",
    "frlp = %timeit -n10000 -o a = np.arange(1024.0).reshape(4, 8, 16, 2); \\\n",
    "b = np.random.rand(4, 8, 16, 2); for4(a, b)"
   ]
  },
  {
   "cell_type": "code",
   "execution_count": 25,
   "metadata": {
    "collapsed": false
   },
   "outputs": [
    {
     "data": {
      "text/plain": [
       "141.37467676452306"
      ]
     },
     "execution_count": 25,
     "metadata": {},
     "output_type": "execute_result"
    }
   ],
   "source": [
    "ratio = frlp.best/ebye.best\n",
    "ratio"
   ]
  },
  {
   "cell_type": "markdown",
   "metadata": {},
   "source": [
    "With the above fuction, it took about 141 times longer for the series of `for` loops to do the same thing as the element-by-element multiplication.\n",
    "* This time, it has turns out that this took shorter than the case without the function. But sometimes, vice versa."
   ]
  },
  {
   "cell_type": "markdown",
   "metadata": {},
   "source": [
    "### 15. Fix the code\n",
    "\n",
    "This code needs to be fixed so that it can run properly and pass the assertion test at the bottom. Write out what you changed to make it work and why it needed to be changed."
   ]
  },
  {
   "cell_type": "code",
   "execution_count": null,
   "metadata": {
    "collapsed": false
   },
   "outputs": [],
   "source": [
    "def calculate(a, b):\n",
    "    \"\"\"Do some calculations\n",
    "    \n",
    "    Take in two arrays, subtract 1/4 of the [:2,:] elements from the elements themselves.\n",
    "    Then multiply with array b and return the result.\n",
    "    \n",
    "    Inputs:\n",
    "        a: input array, shape [MxN]\n",
    "        b: input array, shape [M]\n",
    "    \n",
    "    Returns:\n",
    "        resultant array\n",
    "    \"\"\"\n",
    "\n",
    "    aa = a[:2, :]\n",
    "    aa /= 4.\n",
    "    a[:2, :] -= aa\n",
    "\n",
    "    return a*b\n",
    "    \n",
    "\n",
    "a = np.ones((3, 2))\n",
    "b = np.ones(3)*3\n",
    "res = calculate(a, b)\n",
    "\n",
    "assert (res == np.array([[ 2.25,  2.25],[ 2.25,  2.25],[ 3., 3.]])).all()"
   ]
  },
  {
   "cell_type": "markdown",
   "metadata": {},
   "source": [
    "#### A list of changes\n",
    "\n",
    "1. Line 19: `a*b` &rarr; `a*b[:, np.newaxis]` Since the shape of array `a` is `(M, N)` and the shape of array `b` is `(M, )`, the shape of `b` array needs to become `(M, 1)` for the multiplication.\n",
    "2. Line 15: `aa = a[:2, :]` &rarr; `aa = a.copy()[:2, :]` Since subsets of an array have the same memory as the original array, a `copy` of the array is needed to have its own memory if the subset is going to be modified like in the next line.\n",
    "3. Lines 14, 18, and 20: Unnecessary lines that have nothing to do with making the above code work are deleted."
   ]
  },
  {
   "cell_type": "code",
   "execution_count": 27,
   "metadata": {
    "collapsed": false
   },
   "outputs": [],
   "source": [
    "def calculate(a, b):\n",
    "    \"\"\"Do some calculations\n",
    "    \n",
    "    Take in two arrays, subtract 1/4 of the [:2,:] elements from the elements themselves.\n",
    "    Then multiply with array b and return the result.\n",
    "    \n",
    "    Inputs:\n",
    "        a: input array, shape [MxN]\n",
    "        b: input array, shape [M]\n",
    "    \n",
    "    Returns:\n",
    "        resultant array\n",
    "    \"\"\"\n",
    "    aa = a.copy()[:2, :]\n",
    "    aa /= 4.\n",
    "    a[:2, :] -= aa\n",
    "    return a*b[:, np.newaxis]\n",
    "\n",
    "a = np.ones((3, 2))\n",
    "b = np.ones(3)*3\n",
    "res = calculate(a, b)\n",
    "\n",
    "assert (res == np.array([[ 2.25,  2.25],[ 2.25,  2.25],[ 3., 3.]])).all()"
   ]
  },
  {
   "cell_type": "markdown",
   "metadata": {},
   "source": [
    "### 16. Calculate components of a vector\n",
    "\n",
    "Read in file `data/burl1h2010.txt`. This file gives a bunch of data from a wind station. In particular, read in the wind direction, `WDIR`, and wind speed, `WSPD`. Then, write a function that calculates and returns the `u` and `v` components of this wind vector, which point along the x- and y-axes.\n",
    "\n",
    "The function should have the following basic functionality:\n",
    "\n",
    "    Take in vector and return components.\n",
    "    \n",
    "    Inputs:\n",
    "        vdir: vector direction in degrees\n",
    "        vspd: vector magnitude\n",
    "        \n",
    "    Returns:\n",
    "        u: x component of vector\n",
    "        v: y component of vector\n"
   ]
  },
  {
   "cell_type": "code",
   "execution_count": 28,
   "metadata": {
    "collapsed": false
   },
   "outputs": [
    {
     "name": "stdout",
     "output_type": "stream",
     "text": [
      "[u, v] =\n",
      " [[ -2.08397511   2.1580194 ]\n",
      " [ -1.96070053   3.01921404]\n",
      " [ -2.12119911   2.52794666]\n",
      " ..., \n",
      " [ -9.56084447   6.208885  ]\n",
      " [-10.50707636   5.5867116 ]\n",
      " [ -8.83345912   5.1       ]]\n"
     ]
    },
    {
     "data": {
      "text/plain": [
       "True"
      ]
     },
     "execution_count": 28,
     "metadata": {},
     "output_type": "execute_result"
    }
   ],
   "source": [
    "wdir, wspd = np.loadtxt('../python4geosciences/data/burl1h2010.txt', usecols=[5, 6], unpack=True)\n",
    "\n",
    "def windvector(vdir, vspd):\n",
    "    \"\"\"Takes in vector and return components.\n",
    "    \n",
    "    Inputs:\n",
    "        vdir: vector direction in degrees\n",
    "        vspd: vector magnitude\n",
    "    \n",
    "    Returns:\n",
    "        u: x component of vector\n",
    "        v: y component of vector\n",
    "    \"\"\"\n",
    "    u = vspd*np.cos(vdir*np.pi/180.)\n",
    "    v = vspd*np.sin(vdir*np.pi/180.)\n",
    "    return u, v\n",
    "\n",
    "u, v = windvector(wdir, wspd)\n",
    "print('[u, v] =\\n', np.array([[un, vn] for un, vn in zip(u, v)]))\n",
    "\n",
    "np.allclose(cart2polar(np.vstack((u, v)).T), np.vstack((wspd, wdir)).T)"
   ]
  },
  {
   "cell_type": "markdown",
   "metadata": {},
   "source": [
    "### 17. (Grad) Write and use a class\n",
    "\n",
    "Consider one of the data files located in `python4geosciences/data/MCH/`. Write a class, `dataclass`, to store some of the information in the file. The class should:\n",
    "\n",
    "* be initialized with the name of the file (without file type suffix of .cnv2), and the temperature and salinity values found in the file;\n",
    "* contain a method, `salt_mean`, which returns the mean of the salinity;\n",
    "* contain a method, `temp_max`, which returns the maximum value of the temperature values.\n",
    "\n",
    "Notice that there are many data files in this directory. It would be a lot of work to read them all in by hand. Instead, write a loop which loops through the file names, reads in the necessary data, calls `dataclass` to store the data in a class instance, and adds it to a list of all of the class instances. At the end of your solution, you should have a list of all of the class instances, one for each data file. As usage examples, if your list of data objects is called `wind`, you should be able to access the temperatures from the 3rd file that is read in with\n",
    "\n",
    "    wind[2].temp\n",
    "\n",
    "and you should be able to calculate the mean salinity of the final file with \n",
    "\n",
    "    wind[-1].salt_mean()\n",
    "\n",
    "Hint: Check out the package `glob` for reading in file names with a wild card. "
   ]
  },
  {
   "cell_type": "code",
   "execution_count": 29,
   "metadata": {
    "collapsed": false
   },
   "outputs": [
    {
     "name": "stdout",
     "output_type": "stream",
     "text": [
      "The temperature from the 3rd file m1002a.cnv2 =\n",
      "[21.2128, 21.2149, 21.2177, 21.219, 21.2165, 21.2331, 21.3468, 21.4867, 21.526, 21.5914, 21.6244, 21.6219, 21.6295, 21.6204, 21.6003, 21.5912, 21.4888, 21.3504, 21.2779, 21.343, 21.4117, 21.4415, 21.441, 21.3959, 21.3208, 21.2352, 21.1793, 21.1591, 21.1479, 21.1501, 21.1435, 21.1413, 21.1385, 21.1377, 21.1369]\n",
      "The mean salinity of the final file m1018b.cnv2 = 35.828875000000004\n"
     ]
    }
   ],
   "source": [
    "import glob\n",
    "import codecs\n",
    "\n",
    "class dataclass(object):\n",
    "    \n",
    "    def __init__(self, filename, temp, salt):\n",
    "        self.filename = filename\n",
    "        self.temp = temp\n",
    "        self.salt = salt\n",
    "    \n",
    "    def salt_mean(self):\n",
    "        'Returns the mean of the salinity.'\n",
    "        return sum(self.salt)/len(self.salt)\n",
    "    \n",
    "    def temp_max(self):\n",
    "        'Returns the maximum value of the temperature values.'\n",
    "        return max(self.temp)\n",
    "\n",
    "MCH = []\n",
    "\n",
    "for pathname in glob.glob('../python4geosciences/data/MCH/*.cnv2'):\n",
    "    f = codecs.open(pathname, 'r', 'UTF-8')\n",
    "    f.seek(0)\n",
    "    \n",
    "    filename = '.'.join(pathname.split('/')[-1].split('.')[:-1])\n",
    "    temp = []\n",
    "    salt = []\n",
    "   \n",
    "    for line in f.readlines():\n",
    "        if list(line)[0] == ' ':\n",
    "            data = line.split()\n",
    "            temp.append(float(data[2]))\n",
    "            salt.append(float(data[5]))\n",
    "        else:\n",
    "            continue\n",
    "    MCH.append(dataclass(filename, temp, salt))\n",
    "\n",
    "print('The temperature from the 3rd file ', MCH[2].filename, '.cnv2 =\\n', MCH[2].temp, sep='')\n",
    "print('The mean salinity of the final file ', MCH[-1].filename, '.cnv2 = ', \\\n",
    "      MCH[-1].salt_mean(), sep='')"
   ]
  },
  {
   "cell_type": "markdown",
   "metadata": {},
   "source": [
    "### 18. (Grad) Running mean\n",
    "\n",
    "Write a function that computes averages using a sliding window over a vector; that is, it should take in a vector and for every element in the vector, compute the average of that point with the N points on either side of the element. N should also be an input parameter, and the function should return the original vector if N=0. The returned vector should be the same size as the input vector.\n",
    "\n",
    "Do not use the `pandas` package or the function `convolve`; instead, use a loop. Use the following API for your function:\n",
    "\n",
    "    Return the running average of a vector, with averaging window of size N.\n",
    "    \n",
    "    Inputs:\n",
    "        vec: Input vector\n",
    "        N (int): Averaging window size, or number of elements to include in mean on either side of each element.\n",
    "    \n",
    "    Outputs:\n",
    "        out: Vector of running-averaged values; same size as vec\n"
   ]
  },
  {
   "cell_type": "code",
   "execution_count": 2,
   "metadata": {
    "collapsed": false,
    "scrolled": true
   },
   "outputs": [
    {
     "name": "stdout",
     "output_type": "stream",
     "text": [
      "N = 0 [  0.   1.   2.   3.   4.   5.   6.   7.   8.   9.  10.  11.  12.  13.  14.]\n",
      "N = 1 [  0.   1.   2.   3.   4.   5.   6.   7.   8.   9.  10.  11.  12.  13.  14.]\n",
      "N = 2 [-inf   1.   2.   3.   4.   5.   6.   7.   8.   9.  10.  11.  12.  13. -inf]\n",
      "N = 3 [-inf   1.   2.   3.   4.   5.   6.   7.   8.   9.  10.  11.  12.  13. -inf]\n",
      "N = 4 [-inf -inf   2.   3.   4.   5.   6.   7.   8.   9.  10.  11.  12. -inf -inf]\n",
      "N = 5 [-inf -inf   2.   3.   4.   5.   6.   7.   8.   9.  10.  11.  12. -inf -inf]\n",
      "N = 6 [-inf -inf -inf   3.   4.   5.   6.   7.   8.   9.  10.  11. -inf -inf -inf]\n",
      "N = 7 [-inf -inf -inf   3.   4.   5.   6.   7.   8.   9.  10.  11. -inf -inf -inf]\n",
      "N = 8 [-inf -inf -inf -inf   4.   5.   6.   7.   8.   9.  10. -inf -inf -inf -inf]\n",
      "N = 9 [-inf -inf -inf -inf   4.   5.   6.   7.   8.   9.  10. -inf -inf -inf -inf]\n",
      "N = 10 [-inf -inf -inf -inf -inf   5.   6.   7.   8.   9. -inf -inf -inf -inf -inf]\n",
      "N = 11 [-inf -inf -inf -inf -inf   5.   6.   7.   8.   9. -inf -inf -inf -inf -inf]\n",
      "N = 12 [-inf -inf -inf -inf -inf -inf   6.   7.   8. -inf -inf -inf -inf -inf -inf]\n",
      "N = 13 [-inf -inf -inf -inf -inf -inf   6.   7.   8. -inf -inf -inf -inf -inf -inf]\n",
      "N = 14 [-inf -inf -inf -inf -inf -inf -inf   7. -inf -inf -inf -inf -inf -inf -inf]\n",
      "N = 15 [-inf -inf -inf -inf -inf -inf -inf   7. -inf -inf -inf -inf -inf -inf -inf]\n",
      "N = 16 [-inf -inf -inf -inf -inf -inf -inf -inf -inf -inf -inf -inf -inf -inf -inf]\n",
      "N = 17 [-inf -inf -inf -inf -inf -inf -inf -inf -inf -inf -inf -inf -inf -inf -inf]\n"
     ]
    }
   ],
   "source": [
    "def running_mean(vec, N):\n",
    "    \"\"\"Returns the running average of a vector, with averaging window of size N.\n",
    "    \n",
    "    Inputs:\n",
    "        vec: Input vector\n",
    "        N (int): Averaging window size, or number of elements to include in mean on either side of each element.\n",
    "    \n",
    "    Outputs:\n",
    "        out: Vector of running-averaged values; same size as vec\n",
    "    \"\"\"\n",
    "    out = -np.inf*np.ones(vec.size) # Fills `out` with missing values `-inf`.\n",
    "    if N == 0:\n",
    "        out = vec\n",
    "    else:\n",
    "        # 1. N = odd number, i.e., N % 2 == 1: Note `dtype=int` makes the mean value its floor.\n",
    "        #   for m in np.arange(vec.size-N+1):\n",
    "        #       out[np.arange(m, m+N).mean(dtype=int)] = vec[m:m+N].mean()\n",
    "        #   \n",
    "        # 2. N = even number, i.e., N % 2 == 0: The centered running average is needed.\n",
    "        #   for m in np.arange(1, vec.size-N+1):\n",
    "        #       out[np.arange(m, m+N).mean(dtype=int)] \\\n",
    "        #       = (vec[m-1:m+N-1].mean() + vec[m:m+N].mean()) / 2\n",
    "        #\n",
    "        # By using modulus of N, the above two cases can be combinded as below.\n",
    "        M = (N - 1) % 2\n",
    "        for m in np.arange(M, vec.size-N+1):\n",
    "            out[np.arange(m, m+N).mean(dtype=int)] \\\n",
    "            = np.array([vec[m-M:m+N-M].mean(), vec[m:m+N].mean()]).mean()\n",
    "    return out\n",
    "\n",
    "p = np.arange(15.)\n",
    "\n",
    "for n in np.arange(18):\n",
    "    print('N =', n, running_mean(p, n))"
   ]
  },
  {
   "cell_type": "code",
   "execution_count": 3,
   "metadata": {
    "collapsed": false
   },
   "outputs": [
    {
     "name": "stdout",
     "output_type": "stream",
     "text": [
      "N = 0 [ 4.5 -0.1 -3.5  4.1 -4.8 -4.8 -0.1 -0.5 -4.1 -3.9  2.2 -7.6  1.6  6.4 -0.1\n",
      " -9.1 -1.9 -3.8]\n",
      "N = 1 [ 4.5 -0.1 -3.5  4.1 -4.8 -4.8 -0.1 -0.5 -4.1 -3.9  2.2 -7.6  1.6  6.4 -0.1\n",
      " -9.1 -1.9 -3.8]\n",
      "N = 2 [  -inf  0.2   -0.75  -0.025 -2.575 -3.625 -1.375 -1.3   -3.15  -2.425\n",
      " -1.775 -2.85   0.5    3.575 -0.725 -5.05  -4.175   -inf]\n",
      "N = 3 [       -inf  0.3         0.16666667 -1.4        -1.83333333 -3.23333333\n",
      " -1.8        -1.56666667 -2.83333333 -1.93333333 -3.1        -1.26666667\n",
      "  0.13333333  2.63333333 -0.93333333 -3.7        -4.93333333        -inf]\n",
      "N = 4 [   -inf    -inf  0.0875 -1.6625 -1.825  -1.975  -2.4625 -2.2625 -1.8625\n",
      " -2.4625 -2.6375 -0.6375  0.3625 -0.1125 -0.7375 -2.45      -inf    -inf]\n",
      "N = 5 [ -inf  -inf  0.04 -1.82 -1.82 -1.22 -2.86 -2.68 -1.28 -2.78 -2.36 -0.26\n",
      "  0.5  -1.76 -0.62 -1.7   -inf  -inf]\n",
      "N = 6 [       -inf        -inf        -inf -1.15       -1.56666667 -1.65\n",
      " -2.36666667 -2.45       -2.1        -2.19166667 -1.475      -0.56666667\n",
      " -0.66666667 -1.44166667 -1.46666667        -inf        -inf        -inf]\n",
      "N = 7 [       -inf        -inf        -inf -0.67142857 -1.38571429 -1.95714286\n",
      " -2.01428571 -2.28571429 -2.68571429 -1.77142857 -0.84285714 -0.78571429\n",
      " -1.5        -1.21428571 -2.07142857        -inf        -inf        -inf]\n",
      "N = 8 [    -inf     -inf     -inf     -inf -1.1875  -1.9625  -1.84375 -2.21875\n",
      " -2.55    -1.45    -0.75    -1.2875  -1.6875  -1.54375     -inf     -inf\n",
      "     -inf     -inf]\n",
      "N = 9 [       -inf        -inf        -inf        -inf -1.03333333 -1.96666667\n",
      " -1.71111111 -2.16666667 -2.44444444 -1.2        -0.67777778 -1.67777778\n",
      " -1.83333333 -1.8               -inf        -inf        -inf        -inf]\n",
      "N = 10 [  -inf   -inf   -inf   -inf   -inf -1.435 -1.925 -2.045 -1.675 -1.325\n",
      " -1.305 -1.61  -1.865   -inf   -inf   -inf   -inf   -inf]\n",
      "N = 11 [       -inf        -inf        -inf        -inf        -inf -1.         -2.1\n",
      " -1.94545455 -1.04545455 -1.42727273 -1.81818182 -1.55454545 -1.89090909\n",
      "        -inf        -inf        -inf        -inf        -inf]\n",
      "N = 12 [       -inf        -inf        -inf        -inf        -inf        -inf\n",
      " -1.67083333 -1.52083333 -1.10833333 -1.51666667 -1.94583333 -1.78333333\n",
      "        -inf        -inf        -inf        -inf        -inf        -inf]\n",
      "N = 13 [       -inf        -inf        -inf        -inf        -inf        -inf\n",
      " -1.30769231 -1.16153846 -1.16153846 -1.59230769 -2.05384615 -1.97692308\n",
      "        -inf        -inf        -inf        -inf        -inf        -inf]\n",
      "N = 14 [       -inf        -inf        -inf        -inf        -inf        -inf\n",
      "        -inf -0.92142857 -1.40714286 -1.67142857 -1.89642857        -inf\n",
      "        -inf        -inf        -inf        -inf        -inf        -inf]\n",
      "N = 15 [       -inf        -inf        -inf        -inf        -inf        -inf\n",
      "        -inf -0.71333333 -1.62       -1.74       -1.76              -inf\n",
      "        -inf        -inf        -inf        -inf        -inf        -inf]\n",
      "N = 16 [     -inf      -inf      -inf      -inf      -inf      -inf      -inf\n",
      "      -inf -1.4375   -1.753125      -inf      -inf      -inf      -inf\n",
      "      -inf      -inf      -inf      -inf]\n",
      "N = 17 [       -inf        -inf        -inf        -inf        -inf        -inf\n",
      "        -inf        -inf -1.27647059 -1.76470588        -inf        -inf\n",
      "        -inf        -inf        -inf        -inf        -inf        -inf]\n"
     ]
    }
   ],
   "source": [
    "q = np.random.randint(-10, 10, size=18) + 0.1*np.random.randint(10, size=18)\n",
    "\n",
    "for n in np.arange(18):\n",
    "    print('N =', n, running_mean(q, n))"
   ]
  }
 ],
 "metadata": {
  "kernelspec": {
   "display_name": "Python 3",
   "language": "python",
   "name": "python3"
  },
  "language_info": {
   "codemirror_mode": {
    "name": "ipython",
    "version": 3
   },
   "file_extension": ".py",
   "mimetype": "text/x-python",
   "name": "python",
   "nbconvert_exporter": "python",
   "pygments_lexer": "ipython3",
   "version": "3.5.1"
  }
 },
 "nbformat": 4,
 "nbformat_minor": 0
}
