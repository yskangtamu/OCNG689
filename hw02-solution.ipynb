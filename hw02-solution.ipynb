{
 "cells": [
  {
   "cell_type": "markdown",
   "metadata": {},
   "source": [
    "# Homework 02\n",
    "## Due Tuesday, February 2nd"
   ]
  },
  {
   "cell_type": "markdown",
   "metadata": {},
   "source": [
    "### 1. Make a dictionary\n",
    "\n",
    "Make a dictionary, d, whose keys and values are your name, hometown, department, student status (undergrad/grad), years at TAMU, and explanation of why you are taking this class."
   ]
  },
  {
   "cell_type": "code",
   "execution_count": 12,
   "metadata": {
    "collapsed": false
   },
   "outputs": [
    {
     "name": "stdout",
     "output_type": "stream",
     "text": [
      "Why I am taking OCNG689 : I have been very interested in Python as a meteorologist.\n",
      "Department : Atmospheric Sciences\n",
      "Hometown : South Korea\n",
      "Years at Texas A&M University : 5\n",
      "Student Status (Undergrad/Grad) : Graduate\n",
      "Name : Yoonso Kang\n"
     ]
    }
   ],
   "source": [
    "d = {'Name':'Yoonso Kang', 'Hometown':'South Korea', 'Department':'Atmospheric Sciences', \n",
    "     'Student Status (Undergrad/Grad)':'Graduate', 'Years at Texas A&M University':5, \n",
    "     'Why I am taking OCNG689':'I have been very interested in Python as a meteorologist.'}\n",
    "\n",
    "for key in d:\n",
    "    print(key, ':', d[key])"
   ]
  },
  {
   "cell_type": "markdown",
   "metadata": {},
   "source": [
    "* Then I wanted to print keywords in the order as they were mentioned."
   ]
  },
  {
   "cell_type": "code",
   "execution_count": 31,
   "metadata": {
    "collapsed": false
   },
   "outputs": [
    {
     "name": "stdout",
     "output_type": "stream",
     "text": [
      "Name: Yoonso Kang\n",
      "Hometown: South Korea\n",
      "Department: Atmospheric Sciences\n",
      "Student Status (Undergrad/Grad): Graduate\n",
      "Years at Texas A&M University: 5\n",
      "Why I am taking OCNG689: I have been very interested in Python as a meteorologist.\n"
     ]
    }
   ],
   "source": [
    "from collections import OrderedDict\n",
    "\n",
    "d = OrderedDict()\n",
    "d['Name'] = 'Yoonso Kang'\n",
    "d['Hometown'] = 'South Korea'\n",
    "d['Department'] = 'Atmospheric Sciences'\n",
    "d['Student Status (Undergrad/Grad)'] = 'Graduate'\n",
    "d['Years at Texas A&M University'] = 5\n",
    "d['Why I am taking OCNG689'] = 'I have been very interested in Python as a meteorologist.'\n",
    "\n",
    "for key in d:\n",
    "    print(key + ': ' + str(d[key]))"
   ]
  },
  {
   "cell_type": "markdown",
   "metadata": {},
   "source": [
    "* Then I started to wonder if there was a simpler way to solve question 1."
   ]
  },
  {
   "cell_type": "code",
   "execution_count": 48,
   "metadata": {
    "collapsed": false
   },
   "outputs": [
    {
     "name": "stdout",
     "output_type": "stream",
     "text": [
      "Name: Yoonso Kang\n",
      "Hometown: South Korea\n",
      "Department: Atmospheric Sciences\n",
      "Student Status (Undergrad/Grad): Graduate\n",
      "Years at Texas A&M University: 5\n",
      "Why I am taking OCNG689: I have been very interested in Python as a meteorologist.\n"
     ]
    }
   ],
   "source": [
    "d = {'Name':'Yoonso Kang', 'Hometown':'South Korea', 'Department':'Atmospheric Sciences', \n",
    "     'Student Status (Undergrad/Grad)':'Graduate', 'Years at Texas A&M University':5, \n",
    "     'Why I am taking OCNG689':'I have been very interested in Python as a meteorologist.'}\n",
    "\n",
    "for key in ['Name', 'Hometown', 'Department', 'Student Status (Undergrad/Grad)', \n",
    "            'Years at Texas A&M University', 'Why I am taking OCNG689']:\n",
    "    print(key + ': ' + str(d[key]))"
   ]
  },
  {
   "cell_type": "markdown",
   "metadata": {},
   "source": [
    "### 2. Test for vowels\n",
    "\n",
    "Write a function that takes a character (i.e. a string of length 1) and returns True if it is a vowel, False otherwise. For example,\n",
    "    >>> isVowel(\"a\")\n",
    "    True\n",
    "    >>> isVowel(\"b\")\n",
    "    False\n",
    "\n",
    "You can compare the input character with a known list of vowels. Don't forget about case!"
   ]
  },
  {
   "cell_type": "code",
   "execution_count": 44,
   "metadata": {
    "collapsed": false
   },
   "outputs": [
    {
     "name": "stdout",
     "output_type": "stream",
     "text": [
      "True\n",
      "False\n",
      "Only one character is allowed.\n",
      "False\n",
      "Only alphabetic characters are allowed.\n",
      "False\n",
      "Only alphabetic characters are allowed.\n",
      "False\n"
     ]
    }
   ],
   "source": [
    "import re\n",
    "\n",
    "def isVowel(x):\n",
    "    if type(x) == str and re.match('^[a-z]*$', x, flags=re.IGNORECASE):\n",
    "        if len(x) == 1:\n",
    "            if x.lower() in ['a', 'i', 'u', 'e', 'o']:\n",
    "                res = True\n",
    "            else:\n",
    "                res = False\n",
    "        else:\n",
    "            res = False\n",
    "            print('Only one character is allowed.')\n",
    "    else:\n",
    "        res = False\n",
    "        print('Only alphabetic characters are allowed.')\n",
    "    return res\n",
    "\n",
    "print( isVowel('A') )\n",
    "print( isVowel('b') )\n",
    "print( isVowel('abc') )\n",
    "print( isVowel(1) )\n",
    "print( isVowel('*') )"
   ]
  },
  {
   "cell_type": "markdown",
   "metadata": {},
   "source": [
    "* Or, since I started to wonder why queston 2 was that hard, a simpler way is tried as below."
   ]
  },
  {
   "cell_type": "code",
   "execution_count": 47,
   "metadata": {
    "collapsed": false
   },
   "outputs": [
    {
     "name": "stdout",
     "output_type": "stream",
     "text": [
      "True\n",
      "False\n",
      "False\n",
      "False\n",
      "False\n"
     ]
    }
   ],
   "source": [
    "def isVowel(x):\n",
    "    if str(x).lower() in ['a', 'i', 'u', 'e', 'o']:\n",
    "        res = True\n",
    "    else:\n",
    "        res = False\n",
    "    return res\n",
    "\n",
    "print( isVowel('A') )\n",
    "print( isVowel('b') )\n",
    "print( isVowel('abc') )\n",
    "print( isVowel(1) )\n",
    "print( isVowel('*') )"
   ]
  },
  {
   "cell_type": "markdown",
   "metadata": {},
   "source": [
    "### 3. Compute the length of a given list or string.\n",
    "\n",
    "Define a function that computes the length of a given list or string. (It is true that Python has the len() function built in, but do not use it for your solution — use a loop instead.)\n",
    "\n",
    "For example:\n",
    "    >>> length(['string1', 'string2'])\n",
    "    2\n",
    "    >>> length('string1')\n",
    "    7"
   ]
  },
  {
   "cell_type": "code",
   "execution_count": 35,
   "metadata": {
    "collapsed": false
   },
   "outputs": [
    {
     "name": "stdout",
     "output_type": "stream",
     "text": [
      "2\n",
      "7\n"
     ]
    }
   ],
   "source": [
    "def length(x):\n",
    "    res = 0\n",
    "    for item in x:\n",
    "        res += 1\n",
    "    return res\n",
    "\n",
    "print( length(['string1', 'string2']) )\n",
    "print( length('string1') )"
   ]
  },
  {
   "cell_type": "markdown",
   "metadata": {},
   "source": [
    "### 4. Reverse a string\n",
    "\n",
    "Define a function reverse() that computes the reversal of a string. For example, \n",
    "    >>> reverse(\"I am testing\")\n",
    "    \"gnitset ma I\""
   ]
  },
  {
   "cell_type": "code",
   "execution_count": 36,
   "metadata": {
    "collapsed": false
   },
   "outputs": [
    {
     "data": {
      "text/plain": [
       "'gnitset ma I'"
      ]
     },
     "execution_count": 36,
     "metadata": {},
     "output_type": "execute_result"
    }
   ],
   "source": [
    "def reverse(x):\n",
    "    res = ''\n",
    "    for item in reversed(x):\n",
    "        res += item\n",
    "    return res\n",
    "\n",
    "reverse('I am testing')"
   ]
  },
  {
   "cell_type": "markdown",
   "metadata": {},
   "source": [
    "* Or, if the reversed() function is not allowed here, then it can be done as below."
   ]
  },
  {
   "cell_type": "code",
   "execution_count": 41,
   "metadata": {
    "collapsed": false
   },
   "outputs": [
    {
     "data": {
      "text/plain": [
       "'gnitset ma I'"
      ]
     },
     "execution_count": 41,
     "metadata": {},
     "output_type": "execute_result"
    }
   ],
   "source": [
    "def reverse(x):\n",
    "    res = ''\n",
    "    for n in range(len(x)-1, -1, -1):\n",
    "        res += x[n]\n",
    "    return res\n",
    "\n",
    "reverse('I am testing')"
   ]
  },
  {
   "cell_type": "markdown",
   "metadata": {},
   "source": [
    "### 5. Check for palindromes\n",
    "\n",
    "Define a function is_palindrome() that recognizes palindromes (i.e. words and phrases that look the same written forwards and backwards). Make sure that case and spaces are ignored in your function; for example,\n",
    "    >>> is_palindrome(\"Never odd or even\")\n",
    "    True\n",
    "\n",
    "You can use your solution to #4 for solving this problem."
   ]
  },
  {
   "cell_type": "code",
   "execution_count": 50,
   "metadata": {
    "collapsed": false
   },
   "outputs": [
    {
     "data": {
      "text/plain": [
       "True"
      ]
     },
     "execution_count": 50,
     "metadata": {},
     "output_type": "execute_result"
    }
   ],
   "source": [
    "def is_palindrome(x):\n",
    "    if ''.join(x.split()).lower() == ''.join(reverse(x).split()).lower():\n",
    "        res = True\n",
    "    else:\n",
    "        res = False\n",
    "    return res\n",
    "\n",
    "is_palindrome('Never odd or even')"
   ]
  },
  {
   "cell_type": "markdown",
   "metadata": {},
   "source": [
    "### 6. Number lines in a text file\n",
    "\n",
    "Write a script (i.e., just code, no need to write a function) that numbers all of the lines in a text file, skipping empty lines, and writes the output to another specified file. The output file might look something like\n",
    "\n",
    "    1    This is the first line\n",
    "    2    This is the second line\n",
    "    \n",
    "    3    This is the fourth line\n",
    "\n",
    "where the third line is empty, and not counted."
   ]
  },
  {
   "cell_type": "code",
   "execution_count": 2,
   "metadata": {
    "collapsed": false
   },
   "outputs": [],
   "source": [
    "Input = '''This is the first line\n",
    "This is the second line\n",
    "\n",
    "This is the fourth line'''\n",
    "\n",
    "nline = 0\n",
    "lines = Input.split('\\n')\n",
    "\n",
    "f = open('output.txt', 'w')\n",
    "\n",
    "for line in lines:\n",
    "    if len(line) == 0:\n",
    "        f.write('{}\\n'.format(line))\n",
    "    else:\n",
    "        nline += 1\n",
    "        if line == lines[-1]: #When this is the last line, not to make an extra line in the end\n",
    "            f.write('{}    {}'.format(nline, line))\n",
    "        else:\n",
    "            f.write('{}    {}\\n'.format(nline, line))\n",
    "\n",
    "f.close()"
   ]
  },
  {
   "cell_type": "markdown",
   "metadata": {},
   "source": [
    "* The below is the shorter version with a new syntax."
   ]
  },
  {
   "cell_type": "code",
   "execution_count": 31,
   "metadata": {
    "collapsed": true
   },
   "outputs": [],
   "source": [
    "Input = '''This is the first line\n",
    "This is the second line\n",
    "\n",
    "This is the fourth line'''\n",
    "\n",
    "with open('output.dat', 'w') as f:\n",
    "    nline = 0\n",
    "    for line in Input.split('\\n'):\n",
    "        if not line:\n",
    "            f.write('{}\\n'.format(line))\n",
    "        else:\n",
    "            nline += 1\n",
    "            if line == Input.split('\\n')[-1]:\n",
    "                f.write('{}    {}'.format(nline, line))\n",
    "            else:\n",
    "                f.write('{}    {}\\n'.format(nline, line))"
   ]
  },
  {
   "cell_type": "markdown",
   "metadata": {},
   "source": [
    "### 7. Convert list of words into list of integers of length of words\n",
    "\n",
    "Write a series of functions that maps a list of words into a list of integers representing the lengths of the correponding words. Write them in three different ways: \n",
    "\n",
    "1. using a for-loop\n",
    "\n",
    "2. using the higher order function map(), and \n",
    "\n",
    "3. using list comprehensions. \n",
    "\n",
    "Do not use the len() function.\n",
    "\n",
    "For example,\n",
    "\n",
    "    >>> method1(['list', 'of', 'words'])\n",
    "    [4, 2, 5]"
   ]
  },
  {
   "cell_type": "markdown",
   "metadata": {
    "collapsed": true
   },
   "source": [
    "1) using a for loop"
   ]
  },
  {
   "cell_type": "code",
   "execution_count": 109,
   "metadata": {
    "collapsed": false
   },
   "outputs": [
    {
     "data": {
      "text/plain": [
       "[4, 2, 5]"
      ]
     },
     "execution_count": 109,
     "metadata": {},
     "output_type": "execute_result"
    }
   ],
   "source": [
    "def method1(x):\n",
    "    res = []\n",
    "    for word in x:\n",
    "        length = 0\n",
    "        for char in word:\n",
    "            length += 1\n",
    "        res.append(length)\n",
    "    return res\n",
    "\n",
    "method1(['list', 'of', 'words'])"
   ]
  },
  {
   "cell_type": "markdown",
   "metadata": {
    "collapsed": false
   },
   "source": [
    "2) using the higher order fuction map()"
   ]
  },
  {
   "cell_type": "code",
   "execution_count": 119,
   "metadata": {
    "collapsed": false
   },
   "outputs": [
    {
     "data": {
      "text/plain": [
       "[4, 2, 5]"
      ]
     },
     "execution_count": 119,
     "metadata": {},
     "output_type": "execute_result"
    }
   ],
   "source": [
    "def method2(x):\n",
    "    res = 0\n",
    "    for char in x:\n",
    "        res += 1\n",
    "    return res\n",
    "\n",
    "list(map(method2, ['list', 'of', 'words']))"
   ]
  },
  {
   "cell_type": "markdown",
   "metadata": {},
   "source": [
    "3) using list comprehensions"
   ]
  },
  {
   "cell_type": "code",
   "execution_count": 133,
   "metadata": {
    "collapsed": false
   },
   "outputs": [
    {
     "data": {
      "text/plain": [
       "[4, 2, 5]"
      ]
     },
     "execution_count": 133,
     "metadata": {},
     "output_type": "execute_result"
    }
   ],
   "source": [
    "[method2(word) for word in ['list', 'of', 'words']]"
   ]
  },
  {
   "cell_type": "markdown",
   "metadata": {},
   "source": [
    "### 8. Encode and decode using ROT-13\n",
    "\n",
    "In cryptography, a Caesar cipher is a very simple encryption techniques in which each letter in the plain text is replaced by a letter some fixed number of positions down the alphabet. For example, with a shift of 3, A would be replaced by D, B would become E, and so on. The method is named after Julius Caesar, who used it to communicate with his generals. ROT-13 (\"rotate by 13 places\") is a widely used example of a Caesar cipher where the shift is 13. In Python, the key for ROT-13 may be represented by means of the following dictionary:\n",
    "\n",
    "    key = {'a':'n', 'b':'o', 'c':'p', 'd':'q', 'e':'r', 'f':'s', 'g':'t', 'h':'u', \n",
    "           'i':'v', 'j':'w', 'k':'x', 'l':'y', 'm':'z', 'n':'a', 'o':'b', 'p':'c', \n",
    "           'q':'d', 'r':'e', 's':'f', 't':'g', 'u':'h', 'v':'i', 'w':'j', 'x':'k',\n",
    "           'y':'l', 'z':'m', 'A':'N', 'B':'O', 'C':'P', 'D':'Q', 'E':'R', 'F':'S', \n",
    "           'G':'T', 'H':'U', 'I':'V', 'J':'W', 'K':'X', 'L':'Y', 'M':'Z', 'N':'A', \n",
    "           'O':'B', 'P':'C', 'Q':'D', 'R':'E', 'S':'F', 'T':'G', 'U':'H', 'V':'I', \n",
    "           'W':'J', 'X':'K', 'Y':'L', 'Z':'M'}\n",
    "\n",
    "Your task in this exercise is to implement an encoder/decoder of ROT-13. Once you're done, you will be able to read the following secret message:\n",
    "\n",
    "       Pnrfne pvcure? V zhpu cersre Pnrfne fnynq!\n",
    "\n",
    "Note that since English has 26 characters, your ROT-13 program will be able to both encode and decode texts written in English."
   ]
  },
  {
   "cell_type": "code",
   "execution_count": 168,
   "metadata": {
    "collapsed": false
   },
   "outputs": [
    {
     "data": {
      "text/plain": [
       "'Caesar cipher? I much prefer Caesar salad!'"
      ]
     },
     "execution_count": 168,
     "metadata": {},
     "output_type": "execute_result"
    }
   ],
   "source": [
    "import string\n",
    "\n",
    "def rot_thirteen(x):\n",
    "    key = dict()\n",
    "    for l in range(2):\n",
    "        for m in range(13):\n",
    "            key[string.ascii_letters[m+13*2*l]] = string.ascii_letters[m+13*(2*l+1)]\n",
    "            key[string.ascii_letters[m+13*(2*l+1)]] = string.ascii_letters[m+13*2*l]\n",
    "    code = list(x)\n",
    "    res = []\n",
    "    for n in range(len(code)):\n",
    "        if code[n] in string.ascii_letters:\n",
    "            res.append(key[code[n]])\n",
    "        else:\n",
    "            res.append(code[n])\n",
    "    return ''.join(res)\n",
    "\n",
    "rot_thirteen(\"Pnrfne pvcure? V zhpu cersre Pnrfne fnynq!\")"
   ]
  },
  {
   "cell_type": "code",
   "execution_count": 169,
   "metadata": {
    "collapsed": false
   },
   "outputs": [
    {
     "data": {
      "text/plain": [
       "'Pnrfne pvcure? V zhpu cersre Pnrfne fnynq!'"
      ]
     },
     "execution_count": 169,
     "metadata": {},
     "output_type": "execute_result"
    }
   ],
   "source": [
    "rot_thirteen(rot_thirteen(\"Pnrfne pvcure? V zhpu cersre Pnrfne fnynq!\"))"
   ]
  },
  {
   "cell_type": "markdown",
   "metadata": {},
   "source": [
    "### 9. Fix the code\n",
    "\n",
    "\"99 Bottles of Beer\" is a traditional song in the United States and Canada. It is popular to sing on long trips, as it has a very repetitive format which is easy to memorize, and can take a long time to sing. The song's simple lyrics are as follows:\n",
    "\n",
    "99 bottles of beer on the wall, 99 bottles of beer.\n",
    "Take one down, pass it around, 98 bottles of beer on the wall.\n",
    "\n",
    "The same verse is repeated, each time with one fewer bottle. The song is completed when the singer or singers reach zero.\n",
    "\n",
    "Code to generate all verses of this song has already been written and is provided below. However, it has several problems in it that prevent it from running properly. Your task is to fix the code, keeping a list of what you change, so that the code generates 3 verses of the song."
   ]
  },
  {
   "cell_type": "code",
   "execution_count": 135,
   "metadata": {
    "collapsed": false
   },
   "outputs": [
    {
     "name": "stdout",
     "output_type": "stream",
     "text": [
      "3 bottles of beer on the wall, 3 bottles of beer.\n",
      "Take one down, pass it around, 2 bottles of beer on the wall.\n",
      "\n",
      "2 bottles of beer on the wall, 2 bottles of beer.\n",
      "Take one down, pass it around, 1 bottles of beer on the wall.\n",
      "\n",
      "1 bottle of beer on the wall, 1 bottle of beer.\n",
      "Take one down, pass it around, 0 bottles of beer on the wall.\n",
      "\n"
     ]
    }
   ],
   "source": [
    "def words(num):\n",
    "    \"\"\"Returns words with proper number of beer bottles filled in.\"\"\"\n",
    "\n",
    "    if num != 1\n",
    "        return str(num) + ' bottles of beer on the wall, ' + str(num) + ' bottles of beer.\\n' + \n",
    "            'Take one down, pass it around, ' + str(num-1) + ' bottles of beer on the wall.\\n'\n",
    "\n",
    "    elif num = 1:\n",
    "        return str(num) + ' bottle of beer on the wall, ' + str(num) + ' bottle of beer.\\n' + \\\n",
    "            'Take one down, pass it around, ' + str(num-1) + ' bottles of beer on the wall.\\n'\n",
    "\n",
    "\n",
    "numbottles = 3\n",
    "        \n",
    "for i in range[numbottles, 0, 1]\n",
    " print(words(i))"
   ]
  },
  {
   "cell_type": "markdown",
   "metadata": {},
   "source": [
    "### A list of changes\n",
    "1. Line 4: Add a colon to the end of line after expression, i.e., `if num != 1` &rarr; `if num !=1:`.\n",
    "2. Line 5: Add a backslash to the end of line.\n",
    "3. Line 7: Replace `=` with `==`.\n",
    "4. Line 13: Add a colon to the end of line after expression.\n",
    "5. Line 13: Replace the brackets in the function range with parentheses.\n",
    "6. Line 14: Indent four spaces before `print`.\n",
    "7. Line 13: To decrease the number of bottles, `step 1` should be replaced with `step -1`.\n",
    "\n",
    "    Then the code generates the song as desired. But to further improve the code, more changes have been made as follows.\n",
    "\n",
    "8. Line 7: If the test after `if` is invalid, it means `num == 1`. So `elif num == 1:` can be replaced with `else:`.\n",
    "9. Line 3: Delete the line. ([PEP-257](https://www.python.org/dev/peps/pep-0257/): There's no blank line either before or after the docstring.)\n",
    "10. Line 6: Delete an additional blank line.\n",
    "11. Lines 5 and 8: Further indentation is used to align with opening delimiter.\n",
    "12. Line 10: Delete an additional blank line since the end of the function is marked by unindented code.\n",
    "\n",
    "   Now, for the code to generate the song better, `1 bottles` on the second verse should be printed as `1 bottle`.\n",
    "13. The `if` statement should be changed like the final result below."
   ]
  },
  {
   "cell_type": "code",
   "execution_count": 107,
   "metadata": {
    "collapsed": false
   },
   "outputs": [
    {
     "name": "stdout",
     "output_type": "stream",
     "text": [
      "3 bottles of beer on the wall, 3 bottles of beer.\n",
      "Take one down, pass it around, 2 bottles of beer on the wall.\n",
      "\n",
      "2 bottles of beer on the wall, 2 bottles of beer.\n",
      "Take one down, pass it around, 1 bottle of beer on the wall.\n",
      "\n",
      "1 bottle of beer on the wall, 1 bottle of beer.\n",
      "Take one down, pass it around, 0 bottles of beer on the wall.\n",
      "\n"
     ]
    }
   ],
   "source": [
    "def words(num):\n",
    "    \"\"\"Returns words with proper number of beer bottles filled in.\"\"\"\n",
    "    if num > 2:\n",
    "        return str(num) + ' bottles of beer on the wall, ' + str(num) + ' bottles of beer.\\n' + \\\n",
    "               'Take one down, pass it around, ' + str(num-1) + ' bottles of beer on the wall.\\n'\n",
    "    elif num == 2:\n",
    "        return str(num) + ' bottles of beer on the wall, ' + str(num) + ' bottles of beer.\\n' + \\\n",
    "               'Take one down, pass it around, ' + str(num-1) + ' bottle of beer on the wall.\\n'\n",
    "    else:\n",
    "        return str(num) + ' bottle of beer on the wall, ' + str(num) + ' bottle of beer.\\n' + \\\n",
    "               'Take one down, pass it around, ' + str(num-1) + ' bottles of beer on the wall.\\n'\n",
    "\n",
    "numbottles = 3\n",
    "        \n",
    "for i in range(numbottles, 0, -1):\n",
    "    print(words(i))"
   ]
  },
  {
   "cell_type": "markdown",
   "metadata": {},
   "source": [
    "### 10. Reading in and parsing a file\n",
    "\n",
    "Read in `data/GPS.dat`, a file containing GPS track information. This file is tab-delimited, but contains other characters as well. It has data from several drifters, whose names are listed in the file after the TRACK label; the first is named \"ACTIVE LOG\". \n",
    "\n",
    "Read in the date and time information from the file for the drifter ACTIVE LOG, and form a list of datetime objects with this information, where each line in the file is a data point that should have its own datetime object.\n",
    "\n",
    "*_Grad students:_* Separately, read in the locations and speed at all data points for each drifter. Create a dictionary with the name of each track as a key. The value of the dictionary will be another dictionary that has keys `latitude`, `longitude`, and `speed`.  That is, `gps['GANDALF']['speed']` will return a list containing a timeseries of the speed of that track."
   ]
  },
  {
   "cell_type": "code",
   "execution_count": 6,
   "metadata": {
    "collapsed": false
   },
   "outputs": [
    {
     "data": {
      "text/plain": [
       "[datetime.datetime(2006, 5, 20, 13, 34, 55),\n",
       " datetime.datetime(2006, 5, 20, 13, 35, 10),\n",
       " datetime.datetime(2006, 5, 20, 13, 35, 25),\n",
       " datetime.datetime(2006, 5, 20, 13, 35, 40),\n",
       " datetime.datetime(2006, 5, 20, 13, 35, 55),\n",
       " datetime.datetime(2006, 5, 20, 13, 36, 10),\n",
       " datetime.datetime(2006, 5, 20, 13, 36, 25),\n",
       " datetime.datetime(2006, 5, 20, 13, 36, 40),\n",
       " datetime.datetime(2006, 5, 20, 13, 36, 55),\n",
       " datetime.datetime(2006, 5, 20, 13, 37, 10),\n",
       " datetime.datetime(2006, 5, 20, 13, 37, 25),\n",
       " datetime.datetime(2006, 5, 20, 13, 37, 40),\n",
       " datetime.datetime(2006, 5, 20, 13, 37, 55),\n",
       " datetime.datetime(2006, 5, 20, 13, 38, 10),\n",
       " datetime.datetime(2006, 5, 20, 13, 38, 25),\n",
       " datetime.datetime(2006, 5, 20, 13, 38, 40),\n",
       " datetime.datetime(2006, 5, 20, 13, 38, 55),\n",
       " datetime.datetime(2006, 5, 20, 13, 39, 10),\n",
       " datetime.datetime(2006, 5, 20, 13, 39, 25),\n",
       " datetime.datetime(2006, 5, 20, 13, 39, 40),\n",
       " datetime.datetime(2006, 5, 20, 13, 39, 55),\n",
       " datetime.datetime(2006, 5, 20, 13, 40, 10),\n",
       " datetime.datetime(2006, 5, 20, 13, 40, 25),\n",
       " datetime.datetime(2006, 5, 20, 13, 40, 40),\n",
       " datetime.datetime(2006, 5, 20, 13, 40, 55),\n",
       " datetime.datetime(2006, 5, 20, 13, 41, 10),\n",
       " datetime.datetime(2006, 5, 20, 13, 41, 25),\n",
       " datetime.datetime(2006, 5, 20, 13, 41, 40),\n",
       " datetime.datetime(2006, 5, 20, 13, 41, 55),\n",
       " datetime.datetime(2006, 5, 20, 13, 42, 10),\n",
       " datetime.datetime(2006, 5, 20, 13, 42, 25),\n",
       " datetime.datetime(2006, 5, 20, 13, 42, 40),\n",
       " datetime.datetime(2006, 5, 20, 13, 42, 55),\n",
       " datetime.datetime(2006, 5, 20, 13, 43, 10),\n",
       " datetime.datetime(2006, 5, 20, 13, 43, 25),\n",
       " datetime.datetime(2006, 5, 20, 13, 43, 40),\n",
       " datetime.datetime(2006, 5, 20, 13, 43, 55),\n",
       " datetime.datetime(2006, 5, 20, 13, 44, 10),\n",
       " datetime.datetime(2006, 5, 20, 13, 44, 25),\n",
       " datetime.datetime(2006, 5, 20, 13, 44, 40),\n",
       " datetime.datetime(2006, 5, 20, 13, 44, 55),\n",
       " datetime.datetime(2006, 5, 20, 13, 45, 10),\n",
       " datetime.datetime(2006, 5, 20, 13, 45, 25),\n",
       " datetime.datetime(2006, 5, 20, 13, 45, 40),\n",
       " datetime.datetime(2006, 5, 20, 13, 45, 55),\n",
       " datetime.datetime(2006, 5, 20, 13, 46, 10),\n",
       " datetime.datetime(2006, 5, 20, 13, 46, 25),\n",
       " datetime.datetime(2006, 5, 20, 13, 46, 40),\n",
       " datetime.datetime(2006, 5, 20, 13, 46, 55),\n",
       " datetime.datetime(2006, 5, 20, 13, 47, 10),\n",
       " datetime.datetime(2006, 5, 20, 13, 47, 25),\n",
       " datetime.datetime(2006, 5, 20, 13, 47, 40),\n",
       " datetime.datetime(2006, 5, 20, 13, 47, 55),\n",
       " datetime.datetime(2006, 5, 20, 13, 48, 10),\n",
       " datetime.datetime(2006, 5, 20, 13, 48, 25),\n",
       " datetime.datetime(2006, 5, 20, 13, 48, 40),\n",
       " datetime.datetime(2006, 5, 20, 13, 48, 55),\n",
       " datetime.datetime(2006, 5, 20, 13, 49, 10),\n",
       " datetime.datetime(2006, 5, 20, 13, 49, 25),\n",
       " datetime.datetime(2006, 5, 20, 13, 49, 40),\n",
       " datetime.datetime(2006, 5, 20, 13, 49, 56),\n",
       " datetime.datetime(2006, 5, 20, 13, 50, 11),\n",
       " datetime.datetime(2006, 5, 20, 13, 50, 26),\n",
       " datetime.datetime(2006, 5, 20, 13, 50, 42),\n",
       " datetime.datetime(2006, 5, 20, 13, 50, 57),\n",
       " datetime.datetime(2006, 5, 20, 13, 51, 12),\n",
       " datetime.datetime(2006, 5, 20, 13, 51, 27),\n",
       " datetime.datetime(2006, 5, 20, 13, 51, 42),\n",
       " datetime.datetime(2006, 5, 20, 13, 51, 57),\n",
       " datetime.datetime(2006, 5, 20, 13, 52, 12),\n",
       " datetime.datetime(2006, 5, 20, 13, 52, 27),\n",
       " datetime.datetime(2006, 5, 20, 13, 52, 42),\n",
       " datetime.datetime(2006, 5, 20, 13, 52, 57),\n",
       " datetime.datetime(2006, 5, 20, 13, 53, 12),\n",
       " datetime.datetime(2006, 5, 20, 13, 53, 27),\n",
       " datetime.datetime(2006, 5, 20, 13, 53, 42),\n",
       " datetime.datetime(2006, 5, 20, 13, 53, 57),\n",
       " datetime.datetime(2006, 5, 20, 13, 54, 12),\n",
       " datetime.datetime(2006, 5, 20, 13, 54, 27),\n",
       " datetime.datetime(2006, 5, 20, 13, 54, 42),\n",
       " datetime.datetime(2006, 5, 20, 13, 54, 57),\n",
       " datetime.datetime(2006, 5, 20, 13, 55, 12),\n",
       " datetime.datetime(2006, 5, 20, 13, 55, 27),\n",
       " datetime.datetime(2006, 5, 20, 13, 55, 42),\n",
       " datetime.datetime(2006, 5, 20, 13, 55, 57),\n",
       " datetime.datetime(2006, 5, 20, 13, 56, 12),\n",
       " datetime.datetime(2006, 5, 20, 13, 56, 27),\n",
       " datetime.datetime(2006, 5, 20, 13, 56, 42),\n",
       " datetime.datetime(2006, 5, 20, 13, 56, 57),\n",
       " datetime.datetime(2006, 5, 20, 13, 57, 12),\n",
       " datetime.datetime(2006, 5, 20, 13, 57, 27),\n",
       " datetime.datetime(2006, 5, 20, 13, 57, 42),\n",
       " datetime.datetime(2006, 5, 20, 13, 57, 57),\n",
       " datetime.datetime(2006, 5, 20, 13, 58, 12),\n",
       " datetime.datetime(2006, 5, 20, 13, 58, 27),\n",
       " datetime.datetime(2006, 5, 20, 13, 58, 42),\n",
       " datetime.datetime(2006, 5, 20, 13, 58, 57),\n",
       " datetime.datetime(2006, 5, 20, 13, 59, 12),\n",
       " datetime.datetime(2006, 5, 20, 13, 59, 27),\n",
       " datetime.datetime(2006, 5, 20, 13, 59, 42),\n",
       " datetime.datetime(2006, 5, 20, 13, 59, 57),\n",
       " datetime.datetime(2006, 5, 20, 14, 0, 12),\n",
       " datetime.datetime(2006, 5, 20, 14, 0, 27),\n",
       " datetime.datetime(2006, 5, 20, 14, 0, 42),\n",
       " datetime.datetime(2006, 5, 20, 14, 0, 57),\n",
       " datetime.datetime(2006, 5, 20, 14, 1, 12),\n",
       " datetime.datetime(2006, 5, 20, 14, 1, 27),\n",
       " datetime.datetime(2006, 5, 20, 14, 1, 42),\n",
       " datetime.datetime(2006, 5, 20, 14, 1, 57),\n",
       " datetime.datetime(2006, 5, 20, 14, 2, 12),\n",
       " datetime.datetime(2006, 5, 20, 14, 2, 27),\n",
       " datetime.datetime(2006, 5, 20, 14, 2, 42),\n",
       " datetime.datetime(2006, 5, 20, 14, 2, 57),\n",
       " datetime.datetime(2006, 5, 20, 14, 3, 12),\n",
       " datetime.datetime(2006, 5, 20, 14, 3, 27),\n",
       " datetime.datetime(2006, 5, 20, 14, 3, 42),\n",
       " datetime.datetime(2006, 5, 20, 14, 3, 57),\n",
       " datetime.datetime(2006, 5, 20, 14, 4, 12),\n",
       " datetime.datetime(2006, 5, 20, 14, 4, 27),\n",
       " datetime.datetime(2006, 5, 20, 14, 4, 42),\n",
       " datetime.datetime(2006, 5, 20, 14, 4, 57),\n",
       " datetime.datetime(2006, 5, 20, 14, 5, 12),\n",
       " datetime.datetime(2006, 5, 20, 14, 5, 27),\n",
       " datetime.datetime(2006, 5, 20, 14, 5, 42),\n",
       " datetime.datetime(2006, 5, 20, 14, 5, 57),\n",
       " datetime.datetime(2006, 5, 20, 14, 6, 12),\n",
       " datetime.datetime(2006, 5, 20, 14, 6, 27),\n",
       " datetime.datetime(2006, 5, 20, 14, 6, 42),\n",
       " datetime.datetime(2006, 5, 20, 14, 6, 57),\n",
       " datetime.datetime(2006, 5, 20, 14, 7, 12),\n",
       " datetime.datetime(2006, 5, 20, 14, 7, 27),\n",
       " datetime.datetime(2006, 5, 20, 14, 7, 42),\n",
       " datetime.datetime(2006, 5, 20, 14, 7, 57),\n",
       " datetime.datetime(2006, 5, 20, 14, 8, 12),\n",
       " datetime.datetime(2006, 5, 20, 14, 8, 27),\n",
       " datetime.datetime(2006, 5, 20, 14, 8, 42),\n",
       " datetime.datetime(2006, 5, 20, 14, 8, 57),\n",
       " datetime.datetime(2006, 5, 20, 14, 9, 12),\n",
       " datetime.datetime(2006, 5, 20, 14, 9, 27),\n",
       " datetime.datetime(2006, 5, 20, 14, 9, 42),\n",
       " datetime.datetime(2006, 5, 20, 14, 9, 57),\n",
       " datetime.datetime(2006, 5, 20, 14, 10, 12),\n",
       " datetime.datetime(2006, 5, 20, 14, 10, 27),\n",
       " datetime.datetime(2006, 5, 20, 14, 10, 42),\n",
       " datetime.datetime(2006, 5, 20, 14, 10, 57),\n",
       " datetime.datetime(2006, 5, 20, 14, 11, 12),\n",
       " datetime.datetime(2006, 5, 20, 14, 11, 27),\n",
       " datetime.datetime(2006, 5, 20, 14, 11, 42),\n",
       " datetime.datetime(2006, 5, 20, 14, 11, 57),\n",
       " datetime.datetime(2006, 5, 20, 14, 12, 12),\n",
       " datetime.datetime(2006, 5, 20, 14, 12, 27),\n",
       " datetime.datetime(2006, 5, 20, 14, 12, 42),\n",
       " datetime.datetime(2006, 5, 20, 14, 12, 57),\n",
       " datetime.datetime(2006, 5, 20, 14, 13, 12),\n",
       " datetime.datetime(2006, 5, 20, 14, 13, 27),\n",
       " datetime.datetime(2006, 5, 20, 14, 13, 42),\n",
       " datetime.datetime(2006, 5, 20, 14, 13, 57),\n",
       " datetime.datetime(2006, 5, 20, 14, 14, 12),\n",
       " datetime.datetime(2006, 5, 20, 14, 14, 27),\n",
       " datetime.datetime(2006, 5, 20, 14, 14, 42),\n",
       " datetime.datetime(2006, 5, 20, 14, 14, 57),\n",
       " datetime.datetime(2006, 5, 20, 14, 15, 12),\n",
       " datetime.datetime(2006, 5, 20, 14, 15, 27),\n",
       " datetime.datetime(2006, 5, 20, 14, 15, 42),\n",
       " datetime.datetime(2006, 5, 20, 14, 15, 57),\n",
       " datetime.datetime(2006, 5, 20, 14, 16, 12),\n",
       " datetime.datetime(2006, 5, 20, 14, 16, 27),\n",
       " datetime.datetime(2006, 5, 20, 14, 16, 42),\n",
       " datetime.datetime(2006, 5, 20, 14, 16, 57),\n",
       " datetime.datetime(2006, 5, 20, 14, 17, 12),\n",
       " datetime.datetime(2006, 5, 20, 14, 17, 27),\n",
       " datetime.datetime(2006, 5, 20, 14, 17, 42),\n",
       " datetime.datetime(2006, 5, 20, 14, 17, 57),\n",
       " datetime.datetime(2006, 5, 20, 14, 18, 12),\n",
       " datetime.datetime(2006, 5, 20, 14, 18, 27),\n",
       " datetime.datetime(2006, 5, 20, 14, 18, 42),\n",
       " datetime.datetime(2006, 5, 20, 14, 18, 57),\n",
       " datetime.datetime(2006, 5, 20, 14, 19, 12),\n",
       " datetime.datetime(2006, 5, 20, 14, 19, 27),\n",
       " datetime.datetime(2006, 5, 20, 14, 19, 42),\n",
       " datetime.datetime(2006, 5, 20, 14, 19, 57),\n",
       " datetime.datetime(2006, 5, 20, 14, 20, 12),\n",
       " datetime.datetime(2006, 5, 20, 14, 20, 27),\n",
       " datetime.datetime(2006, 5, 20, 14, 20, 42),\n",
       " datetime.datetime(2006, 5, 20, 14, 20, 57),\n",
       " datetime.datetime(2006, 5, 20, 14, 21, 12),\n",
       " datetime.datetime(2006, 5, 20, 14, 21, 27),\n",
       " datetime.datetime(2006, 5, 20, 14, 21, 42),\n",
       " datetime.datetime(2006, 5, 20, 14, 21, 57),\n",
       " datetime.datetime(2006, 5, 20, 14, 22, 12),\n",
       " datetime.datetime(2006, 5, 20, 14, 22, 27),\n",
       " datetime.datetime(2006, 5, 20, 14, 22, 42),\n",
       " datetime.datetime(2006, 5, 20, 14, 22, 57),\n",
       " datetime.datetime(2006, 5, 20, 14, 23, 13),\n",
       " datetime.datetime(2006, 5, 20, 14, 23, 28),\n",
       " datetime.datetime(2006, 5, 20, 14, 23, 43),\n",
       " datetime.datetime(2006, 5, 20, 14, 23, 58),\n",
       " datetime.datetime(2006, 5, 20, 14, 24, 13),\n",
       " datetime.datetime(2006, 5, 20, 14, 24, 28),\n",
       " datetime.datetime(2006, 5, 20, 14, 24, 43),\n",
       " datetime.datetime(2006, 5, 20, 14, 24, 58),\n",
       " datetime.datetime(2006, 5, 20, 14, 25, 13),\n",
       " datetime.datetime(2006, 5, 20, 14, 25, 28),\n",
       " datetime.datetime(2006, 5, 20, 14, 25, 43),\n",
       " datetime.datetime(2006, 5, 20, 14, 25, 58),\n",
       " datetime.datetime(2006, 5, 20, 14, 26, 13),\n",
       " datetime.datetime(2006, 5, 20, 14, 26, 28),\n",
       " datetime.datetime(2006, 5, 20, 14, 26, 43),\n",
       " datetime.datetime(2006, 5, 20, 14, 26, 58),\n",
       " datetime.datetime(2006, 5, 20, 14, 27, 13),\n",
       " datetime.datetime(2006, 5, 20, 14, 27, 28),\n",
       " datetime.datetime(2006, 5, 20, 14, 27, 43),\n",
       " datetime.datetime(2006, 5, 20, 14, 27, 58),\n",
       " datetime.datetime(2006, 5, 20, 14, 28, 13),\n",
       " datetime.datetime(2006, 5, 20, 14, 28, 28),\n",
       " datetime.datetime(2006, 5, 20, 14, 28, 43),\n",
       " datetime.datetime(2006, 5, 20, 14, 28, 58),\n",
       " datetime.datetime(2006, 5, 20, 14, 29, 13),\n",
       " datetime.datetime(2006, 5, 20, 14, 29, 28),\n",
       " datetime.datetime(2006, 5, 20, 14, 29, 43),\n",
       " datetime.datetime(2006, 5, 20, 14, 29, 58),\n",
       " datetime.datetime(2006, 5, 20, 14, 30, 13),\n",
       " datetime.datetime(2006, 5, 20, 14, 30, 28),\n",
       " datetime.datetime(2006, 5, 20, 14, 30, 43),\n",
       " datetime.datetime(2006, 5, 20, 14, 30, 58),\n",
       " datetime.datetime(2006, 5, 20, 14, 31, 13),\n",
       " datetime.datetime(2006, 5, 20, 14, 31, 28),\n",
       " datetime.datetime(2006, 5, 20, 14, 31, 43),\n",
       " datetime.datetime(2006, 5, 20, 14, 31, 58),\n",
       " datetime.datetime(2006, 5, 20, 14, 32, 13),\n",
       " datetime.datetime(2006, 5, 20, 14, 32, 28),\n",
       " datetime.datetime(2006, 5, 20, 14, 32, 43),\n",
       " datetime.datetime(2006, 5, 20, 14, 32, 58),\n",
       " datetime.datetime(2006, 5, 20, 14, 33, 13),\n",
       " datetime.datetime(2006, 5, 20, 14, 33, 28),\n",
       " datetime.datetime(2006, 5, 20, 14, 33, 43),\n",
       " datetime.datetime(2006, 5, 20, 14, 33, 58),\n",
       " datetime.datetime(2006, 5, 20, 14, 34, 13),\n",
       " datetime.datetime(2006, 5, 20, 14, 34, 28),\n",
       " datetime.datetime(2006, 5, 20, 14, 34, 43),\n",
       " datetime.datetime(2006, 5, 20, 14, 34, 58),\n",
       " datetime.datetime(2006, 5, 20, 14, 35, 13),\n",
       " datetime.datetime(2006, 5, 20, 14, 35, 28),\n",
       " datetime.datetime(2006, 5, 20, 14, 35, 43),\n",
       " datetime.datetime(2006, 5, 20, 14, 35, 58),\n",
       " datetime.datetime(2006, 5, 20, 14, 36, 13),\n",
       " datetime.datetime(2006, 5, 20, 14, 36, 28),\n",
       " datetime.datetime(2006, 5, 20, 14, 36, 43),\n",
       " datetime.datetime(2006, 5, 20, 14, 36, 58),\n",
       " datetime.datetime(2006, 5, 20, 14, 37, 13),\n",
       " datetime.datetime(2006, 5, 20, 14, 37, 28),\n",
       " datetime.datetime(2006, 5, 20, 14, 37, 43),\n",
       " datetime.datetime(2006, 5, 20, 14, 37, 58),\n",
       " datetime.datetime(2006, 5, 20, 14, 38, 13),\n",
       " datetime.datetime(2006, 5, 20, 14, 38, 28),\n",
       " datetime.datetime(2006, 5, 20, 14, 38, 43),\n",
       " datetime.datetime(2006, 5, 20, 14, 38, 58),\n",
       " datetime.datetime(2006, 5, 20, 14, 39, 14),\n",
       " datetime.datetime(2006, 5, 20, 14, 39, 29),\n",
       " datetime.datetime(2006, 5, 20, 14, 39, 44),\n",
       " datetime.datetime(2006, 5, 20, 14, 39, 59),\n",
       " datetime.datetime(2006, 5, 20, 14, 40, 14),\n",
       " datetime.datetime(2006, 5, 20, 14, 40, 29),\n",
       " datetime.datetime(2006, 5, 20, 14, 40, 44),\n",
       " datetime.datetime(2006, 5, 20, 14, 40, 59),\n",
       " datetime.datetime(2006, 5, 20, 14, 41, 14),\n",
       " datetime.datetime(2006, 5, 20, 14, 41, 29),\n",
       " datetime.datetime(2006, 5, 20, 14, 41, 44),\n",
       " datetime.datetime(2006, 5, 20, 14, 41, 59),\n",
       " datetime.datetime(2006, 5, 20, 14, 42, 15),\n",
       " datetime.datetime(2006, 5, 20, 14, 42, 30),\n",
       " datetime.datetime(2006, 5, 20, 14, 42, 45),\n",
       " datetime.datetime(2006, 5, 20, 14, 43),\n",
       " datetime.datetime(2006, 5, 20, 14, 43, 15),\n",
       " datetime.datetime(2006, 5, 20, 14, 43, 30),\n",
       " datetime.datetime(2006, 5, 20, 14, 43, 45),\n",
       " datetime.datetime(2006, 5, 20, 14, 44),\n",
       " datetime.datetime(2006, 5, 20, 14, 44, 15),\n",
       " datetime.datetime(2006, 5, 20, 14, 44, 30),\n",
       " datetime.datetime(2006, 5, 20, 14, 44, 45),\n",
       " datetime.datetime(2006, 5, 20, 14, 45),\n",
       " datetime.datetime(2006, 5, 20, 14, 45, 15),\n",
       " datetime.datetime(2006, 5, 20, 14, 45, 30),\n",
       " datetime.datetime(2006, 5, 20, 14, 45, 45),\n",
       " datetime.datetime(2006, 5, 20, 14, 46),\n",
       " datetime.datetime(2006, 5, 20, 14, 46, 15),\n",
       " datetime.datetime(2006, 5, 20, 14, 46, 30),\n",
       " datetime.datetime(2006, 5, 20, 14, 46, 45),\n",
       " datetime.datetime(2006, 5, 20, 14, 47),\n",
       " datetime.datetime(2006, 5, 20, 14, 47, 15),\n",
       " datetime.datetime(2006, 5, 20, 14, 47, 30),\n",
       " datetime.datetime(2006, 5, 20, 14, 47, 45),\n",
       " datetime.datetime(2006, 5, 20, 14, 48),\n",
       " datetime.datetime(2006, 5, 20, 14, 48, 15),\n",
       " datetime.datetime(2006, 5, 20, 14, 48, 30),\n",
       " datetime.datetime(2006, 5, 20, 14, 48, 45),\n",
       " datetime.datetime(2006, 5, 20, 14, 49),\n",
       " datetime.datetime(2006, 5, 20, 14, 49, 15),\n",
       " datetime.datetime(2006, 5, 20, 14, 49, 30),\n",
       " datetime.datetime(2006, 5, 20, 14, 49, 45),\n",
       " datetime.datetime(2006, 5, 20, 14, 50),\n",
       " datetime.datetime(2006, 5, 20, 14, 50, 15),\n",
       " datetime.datetime(2006, 5, 20, 14, 50, 30),\n",
       " datetime.datetime(2006, 5, 20, 14, 50, 45),\n",
       " datetime.datetime(2006, 5, 20, 14, 51),\n",
       " datetime.datetime(2006, 5, 20, 14, 51, 15),\n",
       " datetime.datetime(2006, 5, 20, 14, 51, 30),\n",
       " datetime.datetime(2006, 5, 20, 14, 51, 45),\n",
       " datetime.datetime(2006, 5, 20, 14, 52),\n",
       " datetime.datetime(2006, 5, 20, 14, 52, 15),\n",
       " datetime.datetime(2006, 5, 20, 14, 52, 30),\n",
       " datetime.datetime(2006, 5, 20, 14, 52, 45),\n",
       " datetime.datetime(2006, 5, 20, 14, 53, 1),\n",
       " datetime.datetime(2006, 5, 20, 14, 53, 16),\n",
       " datetime.datetime(2006, 5, 20, 14, 53, 31),\n",
       " datetime.datetime(2006, 5, 20, 14, 53, 46),\n",
       " datetime.datetime(2006, 5, 20, 14, 54, 1),\n",
       " datetime.datetime(2006, 5, 20, 14, 54, 16),\n",
       " datetime.datetime(2006, 5, 20, 14, 54, 31),\n",
       " datetime.datetime(2006, 5, 20, 14, 54, 46),\n",
       " datetime.datetime(2006, 5, 20, 14, 55, 1),\n",
       " datetime.datetime(2006, 5, 20, 14, 55, 16),\n",
       " datetime.datetime(2006, 5, 20, 14, 55, 31),\n",
       " datetime.datetime(2006, 5, 20, 14, 55, 46),\n",
       " datetime.datetime(2006, 5, 20, 14, 56, 1),\n",
       " datetime.datetime(2006, 5, 20, 14, 56, 16),\n",
       " datetime.datetime(2006, 5, 20, 14, 56, 31),\n",
       " datetime.datetime(2006, 5, 20, 14, 56, 46),\n",
       " datetime.datetime(2006, 5, 20, 14, 57, 1),\n",
       " datetime.datetime(2006, 5, 20, 14, 57, 16),\n",
       " datetime.datetime(2006, 5, 20, 14, 57, 31),\n",
       " datetime.datetime(2006, 5, 20, 14, 57, 46),\n",
       " datetime.datetime(2006, 5, 20, 14, 58, 1),\n",
       " datetime.datetime(2006, 5, 20, 14, 58, 16),\n",
       " datetime.datetime(2006, 5, 20, 14, 58, 31),\n",
       " datetime.datetime(2006, 5, 20, 14, 58, 46),\n",
       " datetime.datetime(2006, 5, 20, 14, 59, 1),\n",
       " datetime.datetime(2006, 5, 20, 14, 59, 16),\n",
       " datetime.datetime(2006, 5, 20, 14, 59, 31),\n",
       " datetime.datetime(2006, 5, 20, 14, 59, 46),\n",
       " datetime.datetime(2006, 5, 20, 15, 0, 1),\n",
       " datetime.datetime(2006, 5, 20, 15, 0, 16),\n",
       " datetime.datetime(2006, 5, 20, 15, 0, 31),\n",
       " datetime.datetime(2006, 5, 20, 15, 0, 46),\n",
       " datetime.datetime(2006, 5, 20, 15, 1, 1),\n",
       " datetime.datetime(2006, 5, 20, 15, 1, 16),\n",
       " datetime.datetime(2006, 5, 20, 15, 1, 31),\n",
       " datetime.datetime(2006, 5, 20, 15, 1, 46),\n",
       " datetime.datetime(2006, 5, 20, 15, 2, 1),\n",
       " datetime.datetime(2006, 5, 20, 15, 2, 16),\n",
       " datetime.datetime(2006, 5, 20, 15, 2, 31),\n",
       " datetime.datetime(2006, 5, 20, 15, 2, 46),\n",
       " datetime.datetime(2006, 5, 20, 15, 3, 1),\n",
       " datetime.datetime(2006, 5, 20, 15, 3, 16),\n",
       " datetime.datetime(2006, 5, 20, 15, 3, 31),\n",
       " datetime.datetime(2006, 5, 20, 15, 3, 46),\n",
       " datetime.datetime(2006, 5, 20, 15, 4, 1),\n",
       " datetime.datetime(2006, 5, 20, 15, 4, 16),\n",
       " datetime.datetime(2006, 5, 20, 15, 4, 31),\n",
       " datetime.datetime(2006, 5, 20, 15, 4, 46),\n",
       " datetime.datetime(2006, 5, 20, 15, 5, 1),\n",
       " datetime.datetime(2006, 5, 20, 15, 5, 16),\n",
       " datetime.datetime(2006, 5, 20, 15, 5, 31),\n",
       " datetime.datetime(2006, 5, 20, 15, 5, 46),\n",
       " datetime.datetime(2006, 5, 20, 15, 6, 1),\n",
       " datetime.datetime(2006, 5, 20, 15, 6, 16),\n",
       " datetime.datetime(2006, 5, 20, 15, 6, 31),\n",
       " datetime.datetime(2006, 5, 20, 15, 6, 46),\n",
       " datetime.datetime(2006, 5, 20, 15, 7, 1),\n",
       " datetime.datetime(2006, 5, 20, 15, 7, 16),\n",
       " datetime.datetime(2006, 5, 20, 15, 7, 31),\n",
       " datetime.datetime(2006, 5, 20, 15, 7, 46),\n",
       " datetime.datetime(2006, 5, 20, 15, 8, 1),\n",
       " datetime.datetime(2006, 5, 20, 15, 8, 16),\n",
       " datetime.datetime(2006, 5, 20, 15, 8, 31),\n",
       " datetime.datetime(2006, 5, 20, 15, 8, 46),\n",
       " datetime.datetime(2006, 5, 20, 15, 9, 1),\n",
       " datetime.datetime(2006, 5, 20, 15, 9, 16),\n",
       " datetime.datetime(2006, 5, 20, 15, 9, 31),\n",
       " datetime.datetime(2006, 5, 20, 15, 9, 46),\n",
       " datetime.datetime(2006, 5, 20, 15, 10, 1),\n",
       " datetime.datetime(2006, 5, 20, 15, 10, 16),\n",
       " datetime.datetime(2006, 5, 20, 15, 10, 31),\n",
       " datetime.datetime(2006, 5, 20, 15, 10, 46),\n",
       " datetime.datetime(2006, 5, 20, 15, 11, 1),\n",
       " datetime.datetime(2006, 5, 20, 15, 11, 16),\n",
       " datetime.datetime(2006, 5, 20, 15, 11, 31),\n",
       " datetime.datetime(2006, 5, 20, 15, 11, 46),\n",
       " datetime.datetime(2006, 5, 20, 15, 12, 1),\n",
       " datetime.datetime(2006, 5, 20, 15, 12, 16),\n",
       " datetime.datetime(2006, 5, 20, 15, 12, 31),\n",
       " datetime.datetime(2006, 5, 20, 15, 12, 46),\n",
       " datetime.datetime(2006, 5, 20, 15, 13, 1),\n",
       " datetime.datetime(2006, 5, 20, 15, 13, 16),\n",
       " datetime.datetime(2006, 5, 20, 15, 13, 31),\n",
       " datetime.datetime(2006, 5, 20, 15, 13, 46),\n",
       " datetime.datetime(2006, 5, 20, 15, 14, 1),\n",
       " datetime.datetime(2006, 5, 20, 15, 14, 16),\n",
       " datetime.datetime(2006, 5, 20, 15, 14, 31),\n",
       " datetime.datetime(2006, 5, 20, 15, 14, 46),\n",
       " datetime.datetime(2006, 5, 20, 15, 15, 1),\n",
       " datetime.datetime(2006, 5, 20, 15, 15, 16),\n",
       " datetime.datetime(2006, 5, 20, 15, 15, 31),\n",
       " datetime.datetime(2006, 5, 20, 15, 15, 46),\n",
       " datetime.datetime(2006, 5, 20, 15, 16, 1),\n",
       " datetime.datetime(2006, 5, 20, 15, 16, 16),\n",
       " datetime.datetime(2006, 5, 20, 15, 16, 31),\n",
       " datetime.datetime(2006, 5, 20, 15, 16, 46),\n",
       " datetime.datetime(2006, 5, 20, 15, 17, 1),\n",
       " datetime.datetime(2006, 5, 20, 15, 17, 16),\n",
       " datetime.datetime(2006, 5, 20, 15, 17, 31),\n",
       " datetime.datetime(2006, 5, 20, 15, 17, 46),\n",
       " datetime.datetime(2006, 5, 20, 15, 18, 1),\n",
       " datetime.datetime(2006, 5, 20, 15, 18, 16),\n",
       " datetime.datetime(2006, 5, 20, 15, 18, 31),\n",
       " datetime.datetime(2006, 5, 20, 15, 18, 46),\n",
       " datetime.datetime(2006, 5, 20, 15, 19, 1),\n",
       " datetime.datetime(2006, 5, 20, 15, 19, 16),\n",
       " datetime.datetime(2006, 5, 20, 15, 19, 31),\n",
       " datetime.datetime(2006, 5, 20, 15, 19, 46),\n",
       " datetime.datetime(2006, 5, 20, 15, 20, 1),\n",
       " datetime.datetime(2006, 5, 20, 15, 20, 16),\n",
       " datetime.datetime(2006, 5, 20, 15, 20, 31),\n",
       " datetime.datetime(2006, 5, 20, 15, 20, 46),\n",
       " datetime.datetime(2006, 5, 20, 15, 21, 1),\n",
       " datetime.datetime(2006, 5, 20, 15, 21, 16),\n",
       " datetime.datetime(2006, 5, 20, 15, 21, 31),\n",
       " datetime.datetime(2006, 5, 20, 15, 21, 46),\n",
       " datetime.datetime(2006, 5, 20, 15, 22, 1),\n",
       " datetime.datetime(2006, 5, 20, 15, 22, 16),\n",
       " datetime.datetime(2006, 5, 20, 15, 22, 31),\n",
       " datetime.datetime(2006, 5, 20, 15, 22, 46),\n",
       " datetime.datetime(2006, 5, 20, 15, 23, 1),\n",
       " datetime.datetime(2006, 5, 20, 15, 23, 16),\n",
       " datetime.datetime(2006, 5, 20, 15, 23, 31),\n",
       " datetime.datetime(2006, 5, 20, 15, 23, 46),\n",
       " datetime.datetime(2006, 5, 20, 15, 24, 1),\n",
       " datetime.datetime(2006, 5, 20, 15, 24, 16),\n",
       " datetime.datetime(2006, 5, 20, 15, 24, 31),\n",
       " datetime.datetime(2006, 5, 20, 15, 24, 46),\n",
       " datetime.datetime(2006, 5, 20, 15, 25, 1),\n",
       " datetime.datetime(2006, 5, 20, 15, 25, 16),\n",
       " datetime.datetime(2006, 5, 20, 15, 25, 31),\n",
       " datetime.datetime(2006, 5, 20, 15, 25, 46),\n",
       " datetime.datetime(2006, 5, 20, 15, 26, 1),\n",
       " datetime.datetime(2006, 5, 20, 15, 26, 16),\n",
       " datetime.datetime(2006, 5, 20, 15, 26, 31),\n",
       " datetime.datetime(2006, 5, 20, 15, 26, 46),\n",
       " datetime.datetime(2006, 5, 20, 15, 27, 1),\n",
       " datetime.datetime(2006, 5, 20, 15, 27, 16),\n",
       " datetime.datetime(2006, 5, 20, 15, 27, 31),\n",
       " datetime.datetime(2006, 5, 20, 15, 27, 46),\n",
       " datetime.datetime(2006, 5, 20, 15, 28, 1),\n",
       " datetime.datetime(2006, 5, 20, 15, 28, 16),\n",
       " datetime.datetime(2006, 5, 20, 15, 28, 32),\n",
       " datetime.datetime(2006, 5, 20, 15, 28, 47),\n",
       " datetime.datetime(2006, 5, 20, 15, 29, 2),\n",
       " datetime.datetime(2006, 5, 20, 15, 29, 17),\n",
       " datetime.datetime(2006, 5, 20, 15, 29, 32),\n",
       " datetime.datetime(2006, 5, 20, 15, 29, 47),\n",
       " datetime.datetime(2006, 5, 20, 15, 30, 2),\n",
       " datetime.datetime(2006, 5, 20, 15, 30, 17),\n",
       " datetime.datetime(2006, 5, 20, 15, 30, 32),\n",
       " datetime.datetime(2006, 5, 20, 15, 30, 47),\n",
       " datetime.datetime(2006, 5, 20, 15, 31, 2),\n",
       " datetime.datetime(2006, 5, 20, 15, 31, 17),\n",
       " datetime.datetime(2006, 5, 20, 15, 31, 32),\n",
       " datetime.datetime(2006, 5, 20, 15, 31, 47),\n",
       " datetime.datetime(2006, 5, 20, 15, 31, 48)]"
      ]
     },
     "execution_count": 6,
     "metadata": {},
     "output_type": "execute_result"
    }
   ],
   "source": [
    "import codecs\n",
    "from datetime import datetime\n",
    "\n",
    "f = codecs.open('GPS.dat', 'r', 'UTF-8')\n",
    "\n",
    "f.seek(0)\n",
    "\n",
    "active_log = []\n",
    "\n",
    "for line in f.readlines():\n",
    "    data = line.split()\n",
    "    if not data: continue\n",
    "    if data[0] == 'Trackpoint':\n",
    "        idx = data.index('PM')\n",
    "        active_log.append(datetime.strptime(' '.join(data[idx-2:idx+1]), '%m/%d/%Y %I:%M:%S %p'))\n",
    "    elif data[0] == 'Track':\n",
    "        if 'ACTIVE LOG' in line.split('\\t')[1]:\n",
    "            continue\n",
    "        else:\n",
    "            break\n",
    "    else:\n",
    "        continue\n",
    "\n",
    "active_log"
   ]
  },
  {
   "cell_type": "code",
   "execution_count": 36,
   "metadata": {
    "collapsed": false
   },
   "outputs": [
    {
     "name": "stdout",
     "output_type": "stream",
     "text": [
      "['', '0.76', '1.4', '1.7', '1.6', '2.9', '2.0', '1.6', '1.8', '2.7', '3.4', '3.7', '2.9', '3.4', '4.7', '4.4', '4.3', '4.3', '4.9', '4.8', '4.8', '5.2', '5.2', '4.8', '4.9', '5.0', '4.7', '4.9', '4.7', '5.0', '4.7', '4.7', '4.7', '4.7', '4.5', '4.3', '4.9', '4.6', '4.7', '4.4', '4.5', '4.9', '4.7', '4.2', '4.6', '4.7', '4.5', '4.7', '4.7', '4.7', '4.7', '4.5', '4.4', '4.4', '4.8', '4.4', '4.7', '4.5', '4.5', '4.5', '4.7', '4.4', '4.4', '4.6', '4.5', '4.6', '4.9', '4.4', '4.4', '4.4', '4.5', '4.5', '4.6', '4.5', '4.6', '4.7', '4.0', '4.3', '4.4', '4.8', '4.9', '4.2', '4.5', '4.6', '4.4', '4.9', '4.7', '4.5', '4.7', '4.4', '5.0', '5.2', '5.0', '5.2', '4.7', '5.3', '5.2', '5.1', '5.1', '4.7', '5.0', '4.4', '4.5', '4.3', '4.5', '4.8', '4.2', '4.4', '4.5', '4.4', '4.5', '4.5', '4.7', '4.7', '5.1', '4.4', '4.7', '4.5', '4.5', '4.5', '4.7', '4.3', '4.5', '4.5', '4.5', '4.7', '4.7', '4.8', '4.5', '4.9', '4.5', '4.5', '4.6', '4.6', '4.2', '4.3', '4.6', '3.9', '1.8', '1.4', '2.9', '2.7', '3.4', '4.4', '4.4', '2.6', '1.9', '2.8', '2.1', '1.4', '2.3', '1.3', '0.86', '0.86', '1.4', '1.4', '1.3', '1.6', '1.6', '1.6', '1.8', '1.6', '1.6', '1.6', '1.6', '1.6', '1.3', '1.4', '1.6', '1.3', '1.6', '1.4', '1.6', '1.3', '1.6', '1.3', '1.3', '1.0', '1.6', '1.3', '1.4', '1.3', '1.6', '1.4', '1.3', '1.3', '1.3', '1.3', '1.4', '1.3', '1.3', '1.6', '1.3', '1.5', '1.3', '1.4', '1.4', '3.0', '3.1', '3.1', '3.9', '4.8', '4.9', '4.8', '4.8', '4.8', '5.1', '4.9', '4.5', '4.2', '3.0', '2.2', '1.3', '1.4', '1.6', '1.6', '1.4', '1.6', '1.6', '1.6', '1.6', '1.9', '1.6', '1.6', '1.9', '1.5', '1.9', '1.7', '1.6', '1.9', '1.7', '1.9', '1.6', '1.6', '1.7', '1.3', '1.9', '1.4', '1.6', '1.6', '1.6', '1.6', '1.6', '1.6', '1.6', '1.8', '1.6', '1.6', '1.4', '1.4', '1.6', '1.4', '1.6', '1.7', '1.4', '1.6', '1.6', '1.5', '1.4', '1.6', '1.6', '1.6', '1.6', '1.4', '1.9', '1.4', '1.6', '1.6', '1.6', '1.7', '1.6', '1.4', '1.6', '1.7', '1.6', '1.6', '1.7', '1.9', '1.4', '1.6', '1.6', '1.4', '1.4', '1.4', '1.4', '1.1', '1.1', '1.3', '1.4', '1.1', '1.4', '1.4', '1.4', '1.4', '1.5', '1.4', '1.4', '1.4', '1.3', '1.4', '1.6', '1.4', '1.4', '1.4', '1.4', '1.4', '1.5', '1.4', '1.1', '1.4', '1.0', '1.4', '1.4', '1.3', '1.1', '1.4', '1.1', '1.4', '1.1', '1.3', '1.1', '1.5', '1.4', '1.4', '1.4', '1.4', '1.1', '1.4', '1.4', '1.4', '1.4', '1.1', '1.5', '1.1', '1.4', '1.1', '1.4', '1.1', '1.4', '1.4', '1.3', '1.4', '1.1', '1.4', '1.1', '1.4', '1.0', '1.5', '1.4', '1.4', '1.1', '1.1', '1.1', '1.1', '1.4', '1.1', '1.4', '1.1', '1.5', '1.4', '1.4', '1.1', '1.4', '1.1', '1.4', '1.4', '1.1', '1.4', '1.1', '1.5', '1.1', '1.4', '1.4', '1.1', '1.5', '1.4', '1.1', '1.4', '1.1', '1.1', '1.4', '1.1', '1.4', '1.5', '1.1', '1.1', '1.4', '1.4', '1.5', '1.1', '1.4', '1.4', '1.4', '1.5', '1.1', '1.4', '1.4', '1.5', '1.4', '1.1', '1.4', '1.5', '1.4', '1.4', '1.1', '1.5', '1.4', '1.4', '1.1', '1.4', '1.4', '1.1', '1.1', '1.4', '1.3', '1.4', '1.1', '1.4', '1.1', '1.1', '1.1', '1.4', '1.1', '1.4', '1.1', '1.1', '1.1', '1.1', '1.1', '1.4', '1.1', '1.1', '1.5', '1.1', '1.4', '1.1', '1.1', '1.4', '1.1', '1.1', '1.4', '1.1', '1.4', '1.1', '1.1', '1.5', '1.4', '1.1', '1.1', '1.4', '1.3', '1.1', '1.6', '2.4', '2.8', '2.5', '1.9', '2.4', '3.9', '4.7', '5.0', '4.8', '5.1', '4.8', '4.7', '5.0', '5.0', '5.0', '6.6']\n",
      "[42.82365, 42.8219, 42.82021666666667, 42.81923333333334, 42.81735, 42.81453333333333, 42.81465, 42.814616666666666, 42.81446666666667, 42.814433333333334, 42.81401666666667, 42.8137, 42.81365, 42.8136, 42.8135, 42.81346666666666, 42.81345, 42.8134, 42.81333333333333, 42.81126666666667, 42.811033333333334, 42.810966666666666, 42.810916666666664]\n",
      "[70.76256666666667, 70.76495, 70.76796666666667, 70.77068333333334, 70.7748, 70.79083333333334, 70.78935, 70.78778333333334, 70.78701666666667, 70.7867, 70.78478333333334, 70.78305, 70.78275, 70.78248333333333, 70.78195, 70.78166666666667, 70.78143333333334, 70.78118333333333, 70.78091666666667, 70.77166666666666, 70.77075, 70.77051666666667, 70.77025]\n",
      "['', '', '', '', '', '', '', '', '', '', '', '', '', '', '', '', '', '', '', '', '', '', '']\n"
     ]
    }
   ],
   "source": [
    "import codecs\n",
    "\n",
    "f = codecs.open('GPS.dat', 'r', 'UTF-8')\n",
    "\n",
    "f.seek(0)\n",
    "\n",
    "gps = dict()\n",
    "variables = ['latitude', 'longitude', 'speed']\n",
    "\n",
    "for line in f.readlines():\n",
    "    data = line.split()\n",
    "    if not data: continue\n",
    "    if data[0] == 'Track':\n",
    "        track = line.split('\\t')[1]\n",
    "        gps[track] = dict()\n",
    "        for variable in variables:\n",
    "            gps[track][variable] = []\n",
    "    elif data[0] == 'Trackpoint':\n",
    "        for n in range(len(data)):\n",
    "            if 'N' in data[n]:\n",
    "                gps[track][variables[0]].append(int(data[n][1:]) + float(data[n+1])/60)\n",
    "            if 'W' in data[n]:\n",
    "                gps[track][variables[1]].append(int(data[n][1:]) + float(data[n+1])/60)\n",
    "        if 'mph' in data:\n",
    "            gps[track][variables[2]].append(data[data.index('mph')-1])\n",
    "        else:\n",
    "            gps[track][variables[2]].append('')\n",
    "    else:\n",
    "        continue\n",
    "\n",
    "print(gps['ACTIVE LOG']['speed'])\n",
    "\n",
    "for variable in variables:\n",
    "    print(gps['LEGOLAS'][variable])"
   ]
  },
  {
   "cell_type": "markdown",
   "metadata": {},
   "source": [
    "### 11. (Grad) Constructing terms in a Taylor series to approximate a function\n",
    "\n",
    "The Taylor series expansion for the sine function is given by \n",
    "$$ \\text{sin}(x) = \\Sigma^\\infty_{k=0} \\frac{(-1)^k x^{1+2k}}{(1+2k)!}$$\n",
    "\n",
    "This expression gives an exact form for sin(x) when an infinite number of terms are used; any truncation gives an approximation. Write a loop that constructs terms from $k=0$ up to $k=N$. Don't use any function for the factorial since we haven't gotten to NumPy... create it yourself, instead. Provide the value of sin(0.5) with N=5 terms. How many terms do you need to include before the answer starts to plateau?\n"
   ]
  },
  {
   "cell_type": "code",
   "execution_count": 25,
   "metadata": {
    "collapsed": false
   },
   "outputs": [
    {
     "name": "stdout",
     "output_type": "stream",
     "text": [
      "0.47942553860418340994\n"
     ]
    }
   ],
   "source": [
    "def sine(x, N=5):\n",
    "    k = 0\n",
    "    res = 0\n",
    "    while k <= N:\n",
    "        factorial = 1+2*k\n",
    "        numerator = (-1)**k*x**factorial\n",
    "        denominator = factorial\n",
    "        factorial -= 1\n",
    "        while factorial > 0:\n",
    "            denominator *= factorial\n",
    "            factorial -= 1\n",
    "        res += numerator/denominator\n",
    "        k += 1\n",
    "    return res\n",
    "            \n",
    "print('{:.20f}'.format(sine(0.5)))"
   ]
  },
  {
   "cell_type": "code",
   "execution_count": 27,
   "metadata": {
    "collapsed": false
   },
   "outputs": [
    {
     "name": "stdout",
     "output_type": "stream",
     "text": [
      "0.47942553860420300538\n"
     ]
    }
   ],
   "source": [
    "# NumPy is used here ONLY for comparison\n",
    "import numpy\n",
    "\n",
    "print('{:.20f}'.format(numpy.sin(0.5)))"
   ]
  },
  {
   "cell_type": "code",
   "execution_count": 30,
   "metadata": {
    "collapsed": false
   },
   "outputs": [
    {
     "name": "stdout",
     "output_type": "stream",
     "text": [
      "0: 0.50000000000000000000\n",
      "1: 0.47916666666666668517\n",
      "2: 0.47942708333333333703\n",
      "3: 0.47942553323412701038\n",
      "4: 0.47942553861641590274\n",
      "5: 0.47942553860418340994\n",
      "6: 0.47942553860420300538\n",
      "7: 0.47942553860420300538\n",
      "8: 0.47942553860420300538\n",
      "9: 0.47942553860420300538\n"
     ]
    }
   ],
   "source": [
    "for n in range(10):\n",
    "    print('N={}: {:.20f}'.format(n, sine(0.5, N=n)))"
   ]
  },
  {
   "cell_type": "markdown",
   "metadata": {},
   "source": [
    "* Since k starts from k=0 and the 0<sup>th</sup> term is included in the Taylor series expansion for sin, the number of terms to be used is actually 6 when N=5.\n",
    "* Considering the result above, I need to include up to the 6<sup>th</sup> term, i.e., 7 terms before the answer starts to plateau. "
   ]
  },
  {
   "cell_type": "code",
   "execution_count": null,
   "metadata": {
    "collapsed": true
   },
   "outputs": [],
   "source": []
  }
 ],
 "metadata": {
  "kernelspec": {
   "display_name": "Python 3",
   "language": "python",
   "name": "python3"
  },
  "language_info": {
   "codemirror_mode": {
    "name": "ipython",
    "version": 3
   },
   "file_extension": ".py",
   "mimetype": "text/x-python",
   "name": "python",
   "nbconvert_exporter": "python",
   "pygments_lexer": "ipython3",
   "version": "3.5.1"
  }
 },
 "nbformat": 4,
 "nbformat_minor": 0
}
