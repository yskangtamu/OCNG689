{
 "cells": [
  {
   "cell_type": "markdown",
   "metadata": {
    "collapsed": true
   },
   "source": [
    "# Hello World\n",
    "## Hello World\n",
    "### Hello World\n",
    "#### Hello World\n",
    "##### Hello World\n",
    "Hello World\n",
    "======\n",
    "Hello World\n",
    "----------\n",
    "*Hello World*  \n",
    "**Hello World**  \n",
    "_Hello World_  \n",
    "__Hello World__  \n",
    "~~Hello World~~\n",
    "1. Hello World\n",
    " * Hello World\n",
    " + Hello World\n",
    " - Hello World  \n",
    "2. Hello World\n",
    "   * Hello World\n",
    "3. Hello World\n",
    " 1. Hello World  \n",
    "`Hello World`  \n",
    "\n",
    "[Hello World](https://github.com/yskangtamu/OCNG689)"
   ]
  }
 ],
 "metadata": {
  "kernelspec": {
   "display_name": "Python 3",
   "language": "python",
   "name": "python3"
  },
  "language_info": {
   "codemirror_mode": {
    "name": "ipython",
    "version": 3
   },
   "file_extension": ".py",
   "mimetype": "text/x-python",
   "name": "python",
   "nbconvert_exporter": "python",
   "pygments_lexer": "ipython3",
   "version": "3.5.1"
  }
 },
 "nbformat": 4,
 "nbformat_minor": 0
}
